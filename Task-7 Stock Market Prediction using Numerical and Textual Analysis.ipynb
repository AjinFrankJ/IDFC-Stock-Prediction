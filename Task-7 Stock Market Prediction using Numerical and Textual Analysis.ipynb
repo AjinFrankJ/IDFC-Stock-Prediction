{
 "cells": [
  {
   "cell_type": "markdown",
   "metadata": {},
   "source": [
    "# Task-7 Stock Market Prediction using Numerical and Textual Analysis"
   ]
  },
  {
   "cell_type": "markdown",
   "metadata": {},
   "source": [
    "# Importing Needed Packages"
   ]
  },
  {
   "cell_type": "code",
   "execution_count": 1,
   "metadata": {},
   "outputs": [],
   "source": [
    "import pandas as pd\n",
    "import numpy as np\n",
    "import matplotlib.pyplot as plt\n",
    "import pylab as pl\n",
    "%matplotlib inline\n",
    "import seaborn as sns"
   ]
  },
  {
   "cell_type": "code",
   "execution_count": 2,
   "metadata": {},
   "outputs": [],
   "source": [
    "import matplotlib as mpl\n",
    "from matplotlib import style\n",
    "\n",
    "#Adjusting the size of matplotlib\n",
    "\n",
    "mpl.rc('figure', figsize = (15 , 15))\n",
    "mpl.__version__\n",
    "\n",
    "#Adjusting the style of matplotlib\n",
    "\n",
    "style.use('ggplot')"
   ]
  },
  {
   "cell_type": "markdown",
   "metadata": {},
   "source": [
    "# Extracting the Data"
   ]
  },
  {
   "cell_type": "code",
   "execution_count": 3,
   "metadata": {},
   "outputs": [],
   "source": [
    "import datetime\n",
    "import pandas_datareader.data as web\n",
    "from pandas import Series, DataFrame"
   ]
  },
  {
   "cell_type": "code",
   "execution_count": 4,
   "metadata": {},
   "outputs": [],
   "source": [
    "start = datetime.datetime(2010, 1, 1)\n",
    "end = datetime.datetime(2021, 6, 16)"
   ]
  },
  {
   "cell_type": "code",
   "execution_count": 5,
   "metadata": {},
   "outputs": [],
   "source": [
    "df = web.DataReader('IDFC.NS','yahoo', start, end)"
   ]
  },
  {
   "cell_type": "code",
   "execution_count": 6,
   "metadata": {},
   "outputs": [
    {
     "data": {
      "text/html": [
       "<div>\n",
       "<style scoped>\n",
       "    .dataframe tbody tr th:only-of-type {\n",
       "        vertical-align: middle;\n",
       "    }\n",
       "\n",
       "    .dataframe tbody tr th {\n",
       "        vertical-align: top;\n",
       "    }\n",
       "\n",
       "    .dataframe thead th {\n",
       "        text-align: right;\n",
       "    }\n",
       "</style>\n",
       "<table border=\"1\" class=\"dataframe\">\n",
       "  <thead>\n",
       "    <tr style=\"text-align: right;\">\n",
       "      <th></th>\n",
       "      <th>High</th>\n",
       "      <th>Low</th>\n",
       "      <th>Open</th>\n",
       "      <th>Close</th>\n",
       "      <th>Volume</th>\n",
       "      <th>Adj Close</th>\n",
       "    </tr>\n",
       "    <tr>\n",
       "      <th>Date</th>\n",
       "      <th></th>\n",
       "      <th></th>\n",
       "      <th></th>\n",
       "      <th></th>\n",
       "      <th></th>\n",
       "      <th></th>\n",
       "    </tr>\n",
       "  </thead>\n",
       "  <tbody>\n",
       "    <tr>\n",
       "      <th>2010-01-04</th>\n",
       "      <td>76.446922</td>\n",
       "      <td>75.299370</td>\n",
       "      <td>75.690025</td>\n",
       "      <td>75.934181</td>\n",
       "      <td>9752599.0</td>\n",
       "      <td>56.071003</td>\n",
       "    </tr>\n",
       "    <tr>\n",
       "      <th>2010-01-05</th>\n",
       "      <td>79.547775</td>\n",
       "      <td>76.178345</td>\n",
       "      <td>76.446922</td>\n",
       "      <td>79.205948</td>\n",
       "      <td>17979545.0</td>\n",
       "      <td>58.486931</td>\n",
       "    </tr>\n",
       "    <tr>\n",
       "      <th>2010-01-06</th>\n",
       "      <td>81.208069</td>\n",
       "      <td>79.596603</td>\n",
       "      <td>79.596603</td>\n",
       "      <td>80.841827</td>\n",
       "      <td>23085887.0</td>\n",
       "      <td>59.694878</td>\n",
       "    </tr>\n",
       "    <tr>\n",
       "      <th>2010-01-07</th>\n",
       "      <td>81.647560</td>\n",
       "      <td>79.865181</td>\n",
       "      <td>81.012741</td>\n",
       "      <td>80.622086</td>\n",
       "      <td>8630755.0</td>\n",
       "      <td>59.532623</td>\n",
       "    </tr>\n",
       "    <tr>\n",
       "      <th>2010-01-08</th>\n",
       "      <td>81.256905</td>\n",
       "      <td>79.645439</td>\n",
       "      <td>80.963913</td>\n",
       "      <td>79.938431</td>\n",
       "      <td>5597801.0</td>\n",
       "      <td>59.027798</td>\n",
       "    </tr>\n",
       "  </tbody>\n",
       "</table>\n",
       "</div>"
      ],
      "text/plain": [
       "                 High        Low       Open      Close      Volume  Adj Close\n",
       "Date                                                                         \n",
       "2010-01-04  76.446922  75.299370  75.690025  75.934181   9752599.0  56.071003\n",
       "2010-01-05  79.547775  76.178345  76.446922  79.205948  17979545.0  58.486931\n",
       "2010-01-06  81.208069  79.596603  79.596603  80.841827  23085887.0  59.694878\n",
       "2010-01-07  81.647560  79.865181  81.012741  80.622086   8630755.0  59.532623\n",
       "2010-01-08  81.256905  79.645439  80.963913  79.938431   5597801.0  59.027798"
      ]
     },
     "execution_count": 6,
     "metadata": {},
     "output_type": "execute_result"
    }
   ],
   "source": [
    "#Take a look at dataset\n",
    "\n",
    "df.head()"
   ]
  },
  {
   "cell_type": "code",
   "execution_count": 7,
   "metadata": {},
   "outputs": [
    {
     "data": {
      "text/html": [
       "<div>\n",
       "<style scoped>\n",
       "    .dataframe tbody tr th:only-of-type {\n",
       "        vertical-align: middle;\n",
       "    }\n",
       "\n",
       "    .dataframe tbody tr th {\n",
       "        vertical-align: top;\n",
       "    }\n",
       "\n",
       "    .dataframe thead th {\n",
       "        text-align: right;\n",
       "    }\n",
       "</style>\n",
       "<table border=\"1\" class=\"dataframe\">\n",
       "  <thead>\n",
       "    <tr style=\"text-align: right;\">\n",
       "      <th></th>\n",
       "      <th>High</th>\n",
       "      <th>Low</th>\n",
       "      <th>Open</th>\n",
       "      <th>Close</th>\n",
       "      <th>Volume</th>\n",
       "      <th>Adj Close</th>\n",
       "    </tr>\n",
       "    <tr>\n",
       "      <th>Date</th>\n",
       "      <th></th>\n",
       "      <th></th>\n",
       "      <th></th>\n",
       "      <th></th>\n",
       "      <th></th>\n",
       "      <th></th>\n",
       "    </tr>\n",
       "  </thead>\n",
       "  <tbody>\n",
       "    <tr>\n",
       "      <th>2021-06-10</th>\n",
       "      <td>56.950001</td>\n",
       "      <td>55.349998</td>\n",
       "      <td>56.049999</td>\n",
       "      <td>56.549999</td>\n",
       "      <td>3913531.0</td>\n",
       "      <td>56.549999</td>\n",
       "    </tr>\n",
       "    <tr>\n",
       "      <th>2021-06-11</th>\n",
       "      <td>57.099998</td>\n",
       "      <td>56.099998</td>\n",
       "      <td>57.000000</td>\n",
       "      <td>56.650002</td>\n",
       "      <td>2681187.0</td>\n",
       "      <td>56.650002</td>\n",
       "    </tr>\n",
       "    <tr>\n",
       "      <th>2021-06-14</th>\n",
       "      <td>59.000000</td>\n",
       "      <td>54.750000</td>\n",
       "      <td>57.099998</td>\n",
       "      <td>56.650002</td>\n",
       "      <td>12189404.0</td>\n",
       "      <td>56.650002</td>\n",
       "    </tr>\n",
       "    <tr>\n",
       "      <th>2021-06-15</th>\n",
       "      <td>57.700001</td>\n",
       "      <td>55.599998</td>\n",
       "      <td>57.400002</td>\n",
       "      <td>56.450001</td>\n",
       "      <td>6178131.0</td>\n",
       "      <td>56.450001</td>\n",
       "    </tr>\n",
       "    <tr>\n",
       "      <th>2021-06-16</th>\n",
       "      <td>56.750000</td>\n",
       "      <td>55.099998</td>\n",
       "      <td>56.750000</td>\n",
       "      <td>55.549999</td>\n",
       "      <td>3013459.0</td>\n",
       "      <td>55.549999</td>\n",
       "    </tr>\n",
       "  </tbody>\n",
       "</table>\n",
       "</div>"
      ],
      "text/plain": [
       "                 High        Low       Open      Close      Volume  Adj Close\n",
       "Date                                                                         \n",
       "2021-06-10  56.950001  55.349998  56.049999  56.549999   3913531.0  56.549999\n",
       "2021-06-11  57.099998  56.099998  57.000000  56.650002   2681187.0  56.650002\n",
       "2021-06-14  59.000000  54.750000  57.099998  56.650002  12189404.0  56.650002\n",
       "2021-06-15  57.700001  55.599998  57.400002  56.450001   6178131.0  56.450001\n",
       "2021-06-16  56.750000  55.099998  56.750000  55.549999   3013459.0  55.549999"
      ]
     },
     "execution_count": 7,
     "metadata": {},
     "output_type": "execute_result"
    }
   ],
   "source": [
    "#Take a look at dataset\n",
    "\n",
    "df.tail()"
   ]
  },
  {
   "cell_type": "markdown",
   "metadata": {},
   "source": [
    "### Rolling Mean (Moving Average) \n",
    "#### to determine trend\n",
    "The Moving Average makes the line smooth and showcase the increasing or decreasing trend of stocks price."
   ]
  },
  {
   "cell_type": "code",
   "execution_count": 8,
   "metadata": {},
   "outputs": [
    {
     "data": {
      "text/plain": [
       "Date\n",
       "2010-01-04   NaN\n",
       "2010-01-05   NaN\n",
       "2010-01-06   NaN\n",
       "2010-01-07   NaN\n",
       "2010-01-08   NaN\n",
       "2010-01-11   NaN\n",
       "2010-01-12   NaN\n",
       "2010-01-13   NaN\n",
       "2010-01-14   NaN\n",
       "2010-01-15   NaN\n",
       "Name: Adj Close, dtype: float64"
      ]
     },
     "execution_count": 8,
     "metadata": {},
     "output_type": "execute_result"
    }
   ],
   "source": [
    "close_px = df['Adj Close']\n",
    "mavg = close_px.rolling(window = 100).mean()\n",
    "mavg.head(10)"
   ]
  },
  {
   "cell_type": "code",
   "execution_count": 9,
   "metadata": {},
   "outputs": [
    {
     "data": {
      "image/png": "[encoded data removed]",
      "text/plain": [
       "<Figure size 1080x1080 with 1 Axes>"
      ]
     },
     "metadata": {},
     "output_type": "display_data"
    }
   ],
   "source": [
    "close_px.plot(label = 'IDFC.NS')\n",
    "mavg.plot(label = 'mavg')\n",
    "plt.legend()\n",
    "plt.show()"
   ]
  },
  {
   "cell_type": "markdown",
   "metadata": {},
   "source": [
    "In this chart, the Moving Average showcases increasing trend the upturn or downturn of stocks price. Logically, you should buy when the stocks are experiencing downturn and sell when the stock and experiencing upturn."
   ]
  },
  {
   "cell_type": "markdown",
   "metadata": {},
   "source": [
    "### Return Deviation\n",
    "#### to determine risk and return"
   ]
  },
  {
   "cell_type": "markdown",
   "metadata": {},
   "source": [
    "Expected Return measures the mean, or expected value, of the probability distribution of investment returns. The expected return of a portfolio is calculated by multiplying the weight of each asset by its expected return and adding the values for each investment - investopedia"
   ]
  },
  {
   "cell_type": "code",
   "execution_count": 10,
   "metadata": {},
   "outputs": [
    {
     "data": {
      "image/png": "[encoded data removed]",
      "text/plain": [
       "<Figure size 1080x1080 with 1 Axes>"
      ]
     },
     "metadata": {},
     "output_type": "display_data"
    }
   ],
   "source": [
    "rets = close_px / close_px.shift(1) - 1\n",
    "rets.plot(label = 'return')\n",
    "plt.show()"
   ]
  },
  {
   "cell_type": "markdown",
   "metadata": {},
   "source": [
    "logically, our ideal stocks should return as high and stable as possible. if you are risk averse, you might want to avoid this stocks as you saw the 10% drop in 2013. This decision is heavily subjected to your general sentiment of stocks and competitor analysis."
   ]
  },
  {
   "cell_type": "markdown",
   "metadata": {},
   "source": [
    "### Analysis Competitors Stocks"
   ]
  },
  {
   "cell_type": "markdown",
   "metadata": {},
   "source": [
    "In this segment , we are going to analyse on how one company performs in relative with its competitors. Let'sassume we are intrested in technology companies and want to compare the big guns: Apple, GE, Google, IBM, and Microsoft."
   ]
  },
  {
   "cell_type": "code",
   "execution_count": 11,
   "metadata": {
    "scrolled": false
   },
   "outputs": [
    {
     "name": "stderr",
     "output_type": "stream",
     "text": [
      "<ipython-input-11-602d403a7306>:1: UserWarning: Pandas doesn't allow columns to be created via a new attribute name - see https://pandas.pydata.org/pandas-docs/stable/indexing.html#attribute-access\n",
      "  df.comp = web.DataReader(['IDFC.NS','HDB','ICICIBANK.NS','KOTAKBANK.NS','CUB.NS'], 'yahoo', start = start, end = end)['Adj Close']\n"
     ]
    },
    {
     "data": {
      "text/html": [
       "<div>\n",
       "<style scoped>\n",
       "    .dataframe tbody tr th:only-of-type {\n",
       "        vertical-align: middle;\n",
       "    }\n",
       "\n",
       "    .dataframe tbody tr th {\n",
       "        vertical-align: top;\n",
       "    }\n",
       "\n",
       "    .dataframe thead th {\n",
       "        text-align: right;\n",
       "    }\n",
       "</style>\n",
       "<table border=\"1\" class=\"dataframe\">\n",
       "  <thead>\n",
       "    <tr style=\"text-align: right;\">\n",
       "      <th>Symbols</th>\n",
       "      <th>IDFC.NS</th>\n",
       "      <th>HDB</th>\n",
       "      <th>ICICIBANK.NS</th>\n",
       "      <th>KOTAKBANK.NS</th>\n",
       "      <th>CUB.NS</th>\n",
       "    </tr>\n",
       "    <tr>\n",
       "      <th>Date</th>\n",
       "      <th></th>\n",
       "      <th></th>\n",
       "      <th></th>\n",
       "      <th></th>\n",
       "      <th></th>\n",
       "    </tr>\n",
       "  </thead>\n",
       "  <tbody>\n",
       "    <tr>\n",
       "      <th>2021-06-03</th>\n",
       "      <td>56.849998</td>\n",
       "      <td>76.769997</td>\n",
       "      <td>650.250000</td>\n",
       "      <td>1814.199951</td>\n",
       "      <td>166.949997</td>\n",
       "    </tr>\n",
       "    <tr>\n",
       "      <th>2021-06-04</th>\n",
       "      <td>57.099998</td>\n",
       "      <td>76.839996</td>\n",
       "      <td>642.700012</td>\n",
       "      <td>1811.199951</td>\n",
       "      <td>165.949997</td>\n",
       "    </tr>\n",
       "    <tr>\n",
       "      <th>2021-06-07</th>\n",
       "      <td>57.150002</td>\n",
       "      <td>76.919998</td>\n",
       "      <td>648.200012</td>\n",
       "      <td>1814.900024</td>\n",
       "      <td>167.300003</td>\n",
       "    </tr>\n",
       "    <tr>\n",
       "      <th>2021-06-08</th>\n",
       "      <td>56.250000</td>\n",
       "      <td>76.949997</td>\n",
       "      <td>642.400024</td>\n",
       "      <td>1793.550049</td>\n",
       "      <td>165.350006</td>\n",
       "    </tr>\n",
       "    <tr>\n",
       "      <th>2021-06-09</th>\n",
       "      <td>55.500000</td>\n",
       "      <td>77.250000</td>\n",
       "      <td>636.099976</td>\n",
       "      <td>1782.900024</td>\n",
       "      <td>164.199997</td>\n",
       "    </tr>\n",
       "    <tr>\n",
       "      <th>2021-06-10</th>\n",
       "      <td>56.549999</td>\n",
       "      <td>77.239998</td>\n",
       "      <td>640.400024</td>\n",
       "      <td>1799.550049</td>\n",
       "      <td>166.649994</td>\n",
       "    </tr>\n",
       "    <tr>\n",
       "      <th>2021-06-11</th>\n",
       "      <td>56.650002</td>\n",
       "      <td>77.459999</td>\n",
       "      <td>635.700012</td>\n",
       "      <td>1794.349976</td>\n",
       "      <td>169.199997</td>\n",
       "    </tr>\n",
       "    <tr>\n",
       "      <th>2021-06-14</th>\n",
       "      <td>56.650002</td>\n",
       "      <td>76.720001</td>\n",
       "      <td>635.150024</td>\n",
       "      <td>1768.050049</td>\n",
       "      <td>169.850006</td>\n",
       "    </tr>\n",
       "    <tr>\n",
       "      <th>2021-06-15</th>\n",
       "      <td>56.450001</td>\n",
       "      <td>77.339996</td>\n",
       "      <td>645.299988</td>\n",
       "      <td>1770.900024</td>\n",
       "      <td>168.699997</td>\n",
       "    </tr>\n",
       "    <tr>\n",
       "      <th>2021-06-16</th>\n",
       "      <td>55.549999</td>\n",
       "      <td>74.779999</td>\n",
       "      <td>640.099976</td>\n",
       "      <td>1760.599976</td>\n",
       "      <td>167.800003</td>\n",
       "    </tr>\n",
       "  </tbody>\n",
       "</table>\n",
       "</div>"
      ],
      "text/plain": [
       "Symbols       IDFC.NS        HDB  ICICIBANK.NS  KOTAKBANK.NS      CUB.NS\n",
       "Date                                                                    \n",
       "2021-06-03  56.849998  76.769997    650.250000   1814.199951  166.949997\n",
       "2021-06-04  57.099998  76.839996    642.700012   1811.199951  165.949997\n",
       "2021-06-07  57.150002  76.919998    648.200012   1814.900024  167.300003\n",
       "2021-06-08  56.250000  76.949997    642.400024   1793.550049  165.350006\n",
       "2021-06-09  55.500000  77.250000    636.099976   1782.900024  164.199997\n",
       "2021-06-10  56.549999  77.239998    640.400024   1799.550049  166.649994\n",
       "2021-06-11  56.650002  77.459999    635.700012   1794.349976  169.199997\n",
       "2021-06-14  56.650002  76.720001    635.150024   1768.050049  169.850006\n",
       "2021-06-15  56.450001  77.339996    645.299988   1770.900024  168.699997\n",
       "2021-06-16  55.549999  74.779999    640.099976   1760.599976  167.800003"
      ]
     },
     "execution_count": 11,
     "metadata": {},
     "output_type": "execute_result"
    }
   ],
   "source": [
    "df.comp = web.DataReader(['IDFC.NS','HDB','ICICIBANK.NS','KOTAKBANK.NS','CUB.NS'], 'yahoo', start = start, end = end)['Adj Close']\n",
    "df.comp.tail(10)"
   ]
  },
  {
   "cell_type": "markdown",
   "metadata": {},
   "source": [
    "### Correlation Analysis\n",
    "#### Does one competitor afeect others?"
   ]
  },
  {
   "cell_type": "markdown",
   "metadata": {},
   "source": [
    "We can analyse the competition by running the percentage change and correlation function in pandas. Percentage change will find how the price changes compared to the previous day which defines returns. Knowing the correlation will help us see whether the returns are affected by other stocks returns"
   ]
  },
  {
   "cell_type": "code",
   "execution_count": 12,
   "metadata": {},
   "outputs": [
    {
     "data": {
      "text/html": [
       "<div>\n",
       "<style scoped>\n",
       "    .dataframe tbody tr th:only-of-type {\n",
       "        vertical-align: middle;\n",
       "    }\n",
       "\n",
       "    .dataframe tbody tr th {\n",
       "        vertical-align: top;\n",
       "    }\n",
       "\n",
       "    .dataframe thead th {\n",
       "        text-align: right;\n",
       "    }\n",
       "</style>\n",
       "<table border=\"1\" class=\"dataframe\">\n",
       "  <thead>\n",
       "    <tr style=\"text-align: right;\">\n",
       "      <th>Symbols</th>\n",
       "      <th>IDFC.NS</th>\n",
       "      <th>HDB</th>\n",
       "      <th>ICICIBANK.NS</th>\n",
       "      <th>KOTAKBANK.NS</th>\n",
       "      <th>CUB.NS</th>\n",
       "    </tr>\n",
       "    <tr>\n",
       "      <th>Date</th>\n",
       "      <th></th>\n",
       "      <th></th>\n",
       "      <th></th>\n",
       "      <th></th>\n",
       "      <th></th>\n",
       "    </tr>\n",
       "  </thead>\n",
       "  <tbody>\n",
       "    <tr>\n",
       "      <th>2021-06-03</th>\n",
       "      <td>-0.011304</td>\n",
       "      <td>0.004580</td>\n",
       "      <td>0.002931</td>\n",
       "      <td>0.017442</td>\n",
       "      <td>-0.001791</td>\n",
       "    </tr>\n",
       "    <tr>\n",
       "      <th>2021-06-04</th>\n",
       "      <td>0.004398</td>\n",
       "      <td>0.000912</td>\n",
       "      <td>-0.011611</td>\n",
       "      <td>-0.001654</td>\n",
       "      <td>-0.005990</td>\n",
       "    </tr>\n",
       "    <tr>\n",
       "      <th>2021-06-07</th>\n",
       "      <td>0.000876</td>\n",
       "      <td>0.001041</td>\n",
       "      <td>0.008558</td>\n",
       "      <td>0.002043</td>\n",
       "      <td>0.008135</td>\n",
       "    </tr>\n",
       "    <tr>\n",
       "      <th>2021-06-08</th>\n",
       "      <td>-0.015748</td>\n",
       "      <td>0.000390</td>\n",
       "      <td>-0.008948</td>\n",
       "      <td>-0.011764</td>\n",
       "      <td>-0.011656</td>\n",
       "    </tr>\n",
       "    <tr>\n",
       "      <th>2021-06-09</th>\n",
       "      <td>-0.013333</td>\n",
       "      <td>0.003899</td>\n",
       "      <td>-0.009807</td>\n",
       "      <td>-0.005938</td>\n",
       "      <td>-0.006955</td>\n",
       "    </tr>\n",
       "    <tr>\n",
       "      <th>2021-06-10</th>\n",
       "      <td>0.018919</td>\n",
       "      <td>-0.000129</td>\n",
       "      <td>0.006760</td>\n",
       "      <td>0.009339</td>\n",
       "      <td>0.014921</td>\n",
       "    </tr>\n",
       "    <tr>\n",
       "      <th>2021-06-11</th>\n",
       "      <td>0.001768</td>\n",
       "      <td>0.002848</td>\n",
       "      <td>-0.007339</td>\n",
       "      <td>-0.002890</td>\n",
       "      <td>0.015302</td>\n",
       "    </tr>\n",
       "    <tr>\n",
       "      <th>2021-06-14</th>\n",
       "      <td>0.000000</td>\n",
       "      <td>-0.009553</td>\n",
       "      <td>-0.000865</td>\n",
       "      <td>-0.014657</td>\n",
       "      <td>0.003842</td>\n",
       "    </tr>\n",
       "    <tr>\n",
       "      <th>2021-06-15</th>\n",
       "      <td>-0.003530</td>\n",
       "      <td>0.008081</td>\n",
       "      <td>0.015980</td>\n",
       "      <td>0.001612</td>\n",
       "      <td>-0.006771</td>\n",
       "    </tr>\n",
       "    <tr>\n",
       "      <th>2021-06-16</th>\n",
       "      <td>-0.015943</td>\n",
       "      <td>-0.033101</td>\n",
       "      <td>-0.008058</td>\n",
       "      <td>-0.005816</td>\n",
       "      <td>-0.005335</td>\n",
       "    </tr>\n",
       "  </tbody>\n",
       "</table>\n",
       "</div>"
      ],
      "text/plain": [
       "Symbols      IDFC.NS       HDB  ICICIBANK.NS  KOTAKBANK.NS    CUB.NS\n",
       "Date                                                                \n",
       "2021-06-03 -0.011304  0.004580      0.002931      0.017442 -0.001791\n",
       "2021-06-04  0.004398  0.000912     -0.011611     -0.001654 -0.005990\n",
       "2021-06-07  0.000876  0.001041      0.008558      0.002043  0.008135\n",
       "2021-06-08 -0.015748  0.000390     -0.008948     -0.011764 -0.011656\n",
       "2021-06-09 -0.013333  0.003899     -0.009807     -0.005938 -0.006955\n",
       "2021-06-10  0.018919 -0.000129      0.006760      0.009339  0.014921\n",
       "2021-06-11  0.001768  0.002848     -0.007339     -0.002890  0.015302\n",
       "2021-06-14  0.000000 -0.009553     -0.000865     -0.014657  0.003842\n",
       "2021-06-15 -0.003530  0.008081      0.015980      0.001612 -0.006771\n",
       "2021-06-16 -0.015943 -0.033101     -0.008058     -0.005816 -0.005335"
      ]
     },
     "execution_count": 12,
     "metadata": {},
     "output_type": "execute_result"
    }
   ],
   "source": [
    "retscomp = df.comp.pct_change()\n",
    "\n",
    "corr = retscomp.corr()\n",
    "retscomp.tail(10)"
   ]
  },
  {
   "cell_type": "markdown",
   "metadata": {},
   "source": [
    "To prove the positive correlations, we will use heat map to visualize the correlation ranges among the competing stocks. Notice that the lighter the color, the more correlated the two stocks are."
   ]
  },
  {
   "cell_type": "code",
   "execution_count": 13,
   "metadata": {},
   "outputs": [
    {
     "data": {
      "image/png": "[encoded data removed]",
      "text/plain": [
       "<Figure size 1080x1080 with 2 Axes>"
      ]
     },
     "metadata": {},
     "output_type": "display_data"
    }
   ],
   "source": [
    "plt.imshow(corr, cmap = 'hot', interpolation = 'none')\n",
    "plt.colorbar()\n",
    "plt.xticks(range(len(corr)), corr.columns)\n",
    "plt.yticks(range(len(corr)), corr.columns);"
   ]
  },
  {
   "cell_type": "markdown",
   "metadata": {},
   "source": [
    "From the scatter matrix and heatmap, we can find great correlations among the competing stocks.However, this might not show causally, and could just show the trend in the technology industry rather than show how competing stocks affect each other."
   ]
  },
  {
   "cell_type": "markdown",
   "metadata": {},
   "source": [
    "### Stocks Return Rate and Risk"
   ]
  },
  {
   "cell_type": "markdown",
   "metadata": {},
   "source": [
    "Apart from correlation, we also analyse each stock's risks and returns. In this case we are extracting the average of returns (Return Rate) and the standard deviation of raturns (Risk)"
   ]
  },
  {
   "cell_type": "code",
   "execution_count": 14,
   "metadata": {},
   "outputs": [
    {
     "data": {
      "image/png": "[encoded data removed]",
      "text/plain": [
       "<Figure size 1080x1080 with 1 Axes>"
      ]
     },
     "metadata": {},
     "output_type": "display_data"
    }
   ],
   "source": [
    "plt.scatter(retscomp.mean(), retscomp.std())\n",
    "plt.xlabel('Expected returns')\n",
    "plt.ylabel('Risk')\n",
    "\n",
    "for label, x, y in zip(retscomp.columns, retscomp.mean(), retscomp.std()):\n",
    "    plt.annotate(label, xy = (x , y), xytext = (20 , -20), textcoords = 'offset points',\n",
    "                 ha = 'right', va = 'bottom', bbox = dict(boxstyle = 'round, pad = 0.5', fc = 'yellow',\n",
    "                 alpha = 0.5), arrowprops = dict(arrowstyle = '->', connectionstyle = 'arc3, rad = 0'))"
   ]
  },
  {
   "cell_type": "markdown",
   "metadata": {},
   "source": [
    "### India-News-Headlines file imported and doing Numerical Analysis"
   ]
  },
  {
   "cell_type": "code",
   "execution_count": 15,
   "metadata": {},
   "outputs": [],
   "source": [
    "df1 = pd.read_csv(r\"C:\\Users\\Admin\\Documents\\The-Sparks-Foundation-main\\india-news-headlines.csv\")"
   ]
  },
  {
   "cell_type": "code",
   "execution_count": 16,
   "metadata": {},
   "outputs": [
    {
     "data": {
      "text/html": [
       "<div>\n",
       "<style scoped>\n",
       "    .dataframe tbody tr th:only-of-type {\n",
       "        vertical-align: middle;\n",
       "    }\n",
       "\n",
       "    .dataframe tbody tr th {\n",
       "        vertical-align: top;\n",
       "    }\n",
       "\n",
       "    .dataframe thead th {\n",
       "        text-align: right;\n",
       "    }\n",
       "</style>\n",
       "<table border=\"1\" class=\"dataframe\">\n",
       "  <thead>\n",
       "    <tr style=\"text-align: right;\">\n",
       "      <th></th>\n",
       "      <th>publish_date</th>\n",
       "      <th>headline_category</th>\n",
       "      <th>headline_text</th>\n",
       "    </tr>\n",
       "  </thead>\n",
       "  <tbody>\n",
       "    <tr>\n",
       "      <th>0</th>\n",
       "      <td>20010102</td>\n",
       "      <td>unknown</td>\n",
       "      <td>Status quo will not be disturbed at Ayodhya; s...</td>\n",
       "    </tr>\n",
       "    <tr>\n",
       "      <th>1</th>\n",
       "      <td>20010102</td>\n",
       "      <td>unknown</td>\n",
       "      <td>Fissures in Hurriyat over Pak visit</td>\n",
       "    </tr>\n",
       "    <tr>\n",
       "      <th>2</th>\n",
       "      <td>20010102</td>\n",
       "      <td>unknown</td>\n",
       "      <td>America's unwanted heading for India?</td>\n",
       "    </tr>\n",
       "    <tr>\n",
       "      <th>3</th>\n",
       "      <td>20010102</td>\n",
       "      <td>unknown</td>\n",
       "      <td>For bigwigs; it is destination Goa</td>\n",
       "    </tr>\n",
       "    <tr>\n",
       "      <th>4</th>\n",
       "      <td>20010102</td>\n",
       "      <td>unknown</td>\n",
       "      <td>Extra buses to clear tourist traffic</td>\n",
       "    </tr>\n",
       "    <tr>\n",
       "      <th>5</th>\n",
       "      <td>20010102</td>\n",
       "      <td>unknown</td>\n",
       "      <td>Dilute the power of transfers; says Riberio</td>\n",
       "    </tr>\n",
       "    <tr>\n",
       "      <th>6</th>\n",
       "      <td>20010102</td>\n",
       "      <td>unknown</td>\n",
       "      <td>Focus shifts to teaching of Hindi</td>\n",
       "    </tr>\n",
       "    <tr>\n",
       "      <th>7</th>\n",
       "      <td>20010102</td>\n",
       "      <td>unknown</td>\n",
       "      <td>IT will become compulsory in schools</td>\n",
       "    </tr>\n",
       "    <tr>\n",
       "      <th>8</th>\n",
       "      <td>20010102</td>\n",
       "      <td>unknown</td>\n",
       "      <td>Move to stop freedom fighters' pension flayed</td>\n",
       "    </tr>\n",
       "    <tr>\n",
       "      <th>9</th>\n",
       "      <td>20010102</td>\n",
       "      <td>unknown</td>\n",
       "      <td>Gilani claims he applied for passport 2 years ago</td>\n",
       "    </tr>\n",
       "  </tbody>\n",
       "</table>\n",
       "</div>"
      ],
      "text/plain": [
       "   publish_date headline_category  \\\n",
       "0      20010102           unknown   \n",
       "1      20010102           unknown   \n",
       "2      20010102           unknown   \n",
       "3      20010102           unknown   \n",
       "4      20010102           unknown   \n",
       "5      20010102           unknown   \n",
       "6      20010102           unknown   \n",
       "7      20010102           unknown   \n",
       "8      20010102           unknown   \n",
       "9      20010102           unknown   \n",
       "\n",
       "                                       headline_text  \n",
       "0  Status quo will not be disturbed at Ayodhya; s...  \n",
       "1                Fissures in Hurriyat over Pak visit  \n",
       "2              America's unwanted heading for India?  \n",
       "3                 For bigwigs; it is destination Goa  \n",
       "4               Extra buses to clear tourist traffic  \n",
       "5        Dilute the power of transfers; says Riberio  \n",
       "6                  Focus shifts to teaching of Hindi  \n",
       "7               IT will become compulsory in schools  \n",
       "8      Move to stop freedom fighters' pension flayed  \n",
       "9  Gilani claims he applied for passport 2 years ago  "
      ]
     },
     "execution_count": 16,
     "metadata": {},
     "output_type": "execute_result"
    }
   ],
   "source": [
    "#Take a look at dataset\n",
    "\n",
    "df1.head(10)"
   ]
  },
  {
   "cell_type": "code",
   "execution_count": 17,
   "metadata": {},
   "outputs": [
    {
     "data": {
      "text/html": [
       "<div>\n",
       "<style scoped>\n",
       "    .dataframe tbody tr th:only-of-type {\n",
       "        vertical-align: middle;\n",
       "    }\n",
       "\n",
       "    .dataframe tbody tr th {\n",
       "        vertical-align: top;\n",
       "    }\n",
       "\n",
       "    .dataframe thead th {\n",
       "        text-align: right;\n",
       "    }\n",
       "</style>\n",
       "<table border=\"1\" class=\"dataframe\">\n",
       "  <thead>\n",
       "    <tr style=\"text-align: right;\">\n",
       "      <th></th>\n",
       "      <th>publish_date</th>\n",
       "      <th>headline_category</th>\n",
       "      <th>headline_text</th>\n",
       "    </tr>\n",
       "  </thead>\n",
       "  <tbody>\n",
       "    <tr>\n",
       "      <th>3424057</th>\n",
       "      <td>20201231</td>\n",
       "      <td>india</td>\n",
       "      <td>50 NRIs reach Singhu; offer help to farmers</td>\n",
       "    </tr>\n",
       "    <tr>\n",
       "      <th>3424058</th>\n",
       "      <td>20201231</td>\n",
       "      <td>city.amritsar</td>\n",
       "      <td>Navjot Singh Sidhu tweets apology; says 'wore ...</td>\n",
       "    </tr>\n",
       "    <tr>\n",
       "      <th>3424059</th>\n",
       "      <td>20201231</td>\n",
       "      <td>city.bengaluru</td>\n",
       "      <td>Azim Premji organisation's name misused to che...</td>\n",
       "    </tr>\n",
       "    <tr>\n",
       "      <th>3424060</th>\n",
       "      <td>20201231</td>\n",
       "      <td>india</td>\n",
       "      <td>Get govt nod to probe officials: MP to agencies</td>\n",
       "    </tr>\n",
       "    <tr>\n",
       "      <th>3424061</th>\n",
       "      <td>20201231</td>\n",
       "      <td>city.bengaluru</td>\n",
       "      <td>Peddler nabbed; 10kg ganja seized in Anantapur...</td>\n",
       "    </tr>\n",
       "    <tr>\n",
       "      <th>3424062</th>\n",
       "      <td>20201231</td>\n",
       "      <td>city.jodhpur</td>\n",
       "      <td>Covid-19: Despite dip in cases; Rajasthan amon...</td>\n",
       "    </tr>\n",
       "    <tr>\n",
       "      <th>3424063</th>\n",
       "      <td>20201231</td>\n",
       "      <td>city.udaipur</td>\n",
       "      <td>Covid-19: Despite dip in cases; Rajasthan amon...</td>\n",
       "    </tr>\n",
       "    <tr>\n",
       "      <th>3424064</th>\n",
       "      <td>20201231</td>\n",
       "      <td>city.ajmer</td>\n",
       "      <td>Covid-19: Despite dip in cases; Rajasthan amon...</td>\n",
       "    </tr>\n",
       "    <tr>\n",
       "      <th>3424065</th>\n",
       "      <td>20201231</td>\n",
       "      <td>removed</td>\n",
       "      <td>Govt extends deadline for use of FASTag till F...</td>\n",
       "    </tr>\n",
       "    <tr>\n",
       "      <th>3424066</th>\n",
       "      <td>20201231</td>\n",
       "      <td>entertainment.bengali.movies.news</td>\n",
       "      <td>Celebs plan to party safely and responsibly on...</td>\n",
       "    </tr>\n",
       "  </tbody>\n",
       "</table>\n",
       "</div>"
      ],
      "text/plain": [
       "         publish_date                  headline_category  \\\n",
       "3424057      20201231                              india   \n",
       "3424058      20201231                      city.amritsar   \n",
       "3424059      20201231                     city.bengaluru   \n",
       "3424060      20201231                              india   \n",
       "3424061      20201231                     city.bengaluru   \n",
       "3424062      20201231                       city.jodhpur   \n",
       "3424063      20201231                       city.udaipur   \n",
       "3424064      20201231                         city.ajmer   \n",
       "3424065      20201231                            removed   \n",
       "3424066      20201231  entertainment.bengali.movies.news   \n",
       "\n",
       "                                             headline_text  \n",
       "3424057        50 NRIs reach Singhu; offer help to farmers  \n",
       "3424058  Navjot Singh Sidhu tweets apology; says 'wore ...  \n",
       "3424059  Azim Premji organisation's name misused to che...  \n",
       "3424060    Get govt nod to probe officials: MP to agencies  \n",
       "3424061  Peddler nabbed; 10kg ganja seized in Anantapur...  \n",
       "3424062  Covid-19: Despite dip in cases; Rajasthan amon...  \n",
       "3424063  Covid-19: Despite dip in cases; Rajasthan amon...  \n",
       "3424064  Covid-19: Despite dip in cases; Rajasthan amon...  \n",
       "3424065  Govt extends deadline for use of FASTag till F...  \n",
       "3424066  Celebs plan to party safely and responsibly on...  "
      ]
     },
     "execution_count": 17,
     "metadata": {},
     "output_type": "execute_result"
    }
   ],
   "source": [
    "#Take a look at dataset\n",
    "\n",
    "df1.tail(10)"
   ]
  },
  {
   "cell_type": "markdown",
   "metadata": {},
   "source": [
    "### Data Exploration"
   ]
  },
  {
   "cell_type": "code",
   "execution_count": 18,
   "metadata": {},
   "outputs": [
    {
     "name": "stdout",
     "output_type": "stream",
     "text": [
      "<class 'pandas.core.frame.DataFrame'>\n",
      "RangeIndex: 3424067 entries, 0 to 3424066\n",
      "Data columns (total 3 columns):\n",
      " #   Column             Dtype \n",
      "---  ------             ----- \n",
      " 0   publish_date       int64 \n",
      " 1   headline_category  object\n",
      " 2   headline_text      object\n",
      "dtypes: int64(1), object(2)\n",
      "memory usage: 78.4+ MB\n"
     ]
    }
   ],
   "source": [
    "df1.info()"
   ]
  },
  {
   "cell_type": "code",
   "execution_count": 19,
   "metadata": {},
   "outputs": [
    {
     "data": {
      "text/html": [
       "<div>\n",
       "<style scoped>\n",
       "    .dataframe tbody tr th:only-of-type {\n",
       "        vertical-align: middle;\n",
       "    }\n",
       "\n",
       "    .dataframe tbody tr th {\n",
       "        vertical-align: top;\n",
       "    }\n",
       "\n",
       "    .dataframe thead th {\n",
       "        text-align: right;\n",
       "    }\n",
       "</style>\n",
       "<table border=\"1\" class=\"dataframe\">\n",
       "  <thead>\n",
       "    <tr style=\"text-align: right;\">\n",
       "      <th></th>\n",
       "      <th>publish_date</th>\n",
       "    </tr>\n",
       "  </thead>\n",
       "  <tbody>\n",
       "    <tr>\n",
       "      <th>count</th>\n",
       "      <td>3.424067e+06</td>\n",
       "    </tr>\n",
       "    <tr>\n",
       "      <th>mean</th>\n",
       "      <td>2.012659e+07</td>\n",
       "    </tr>\n",
       "    <tr>\n",
       "      <th>std</th>\n",
       "      <td>4.981132e+04</td>\n",
       "    </tr>\n",
       "    <tr>\n",
       "      <th>min</th>\n",
       "      <td>2.001010e+07</td>\n",
       "    </tr>\n",
       "    <tr>\n",
       "      <th>25%</th>\n",
       "      <td>2.009113e+07</td>\n",
       "    </tr>\n",
       "    <tr>\n",
       "      <th>50%</th>\n",
       "      <td>2.013092e+07</td>\n",
       "    </tr>\n",
       "    <tr>\n",
       "      <th>75%</th>\n",
       "      <td>2.017013e+07</td>\n",
       "    </tr>\n",
       "    <tr>\n",
       "      <th>max</th>\n",
       "      <td>2.020123e+07</td>\n",
       "    </tr>\n",
       "  </tbody>\n",
       "</table>\n",
       "</div>"
      ],
      "text/plain": [
       "       publish_date\n",
       "count  3.424067e+06\n",
       "mean   2.012659e+07\n",
       "std    4.981132e+04\n",
       "min    2.001010e+07\n",
       "25%    2.009113e+07\n",
       "50%    2.013092e+07\n",
       "75%    2.017013e+07\n",
       "max    2.020123e+07"
      ]
     },
     "execution_count": 19,
     "metadata": {},
     "output_type": "execute_result"
    }
   ],
   "source": [
    "df1.describe()"
   ]
  },
  {
   "cell_type": "code",
   "execution_count": 20,
   "metadata": {},
   "outputs": [
    {
     "data": {
      "text/plain": [
       "publish_date                                                  20201231\n",
       "headline_category                                          young-turks\n",
       "headline_text        Why should girls have all the fun? Boys prep ...\n",
       "dtype: object"
      ]
     },
     "execution_count": 20,
     "metadata": {},
     "output_type": "execute_result"
    }
   ],
   "source": [
    "df1.max()"
   ]
  },
  {
   "cell_type": "code",
   "execution_count": 21,
   "metadata": {},
   "outputs": [
    {
     "data": {
      "text/plain": [
       "publish_date                                20010102\n",
       "headline_category                   2008-in-pictures\n",
       "headline_text         15cr funds for two auditoriums\n",
       "dtype: object"
      ]
     },
     "execution_count": 21,
     "metadata": {},
     "output_type": "execute_result"
    }
   ],
   "source": [
    "df1.min()"
   ]
  },
  {
   "cell_type": "code",
   "execution_count": 22,
   "metadata": {},
   "outputs": [
    {
     "data": {
      "text/plain": [
       "array(['unknown', 'entertainment.hindi.bollywood', 'india', ...,\n",
       "       'elections.assembly-elections.bihar',\n",
       "       'astrology.horoscope.monthly', 'astrology.numerology-tarot'],\n",
       "      dtype=object)"
      ]
     },
     "execution_count": 22,
     "metadata": {},
     "output_type": "execute_result"
    }
   ],
   "source": [
    "df1['headline_category'].unique()"
   ]
  },
  {
   "cell_type": "code",
   "execution_count": 23,
   "metadata": {},
   "outputs": [
    {
     "data": {
      "text/plain": [
       "publish_date         False\n",
       "headline_category    False\n",
       "headline_text        False\n",
       "dtype: bool"
      ]
     },
     "execution_count": 23,
     "metadata": {},
     "output_type": "execute_result"
    }
   ],
   "source": [
    "#In case of null values\n",
    "\n",
    "df1.isnull().any()"
   ]
  },
  {
   "cell_type": "code",
   "execution_count": 24,
   "metadata": {},
   "outputs": [
    {
     "data": {
      "text/html": [
       "<div>\n",
       "<style scoped>\n",
       "    .dataframe tbody tr th:only-of-type {\n",
       "        vertical-align: middle;\n",
       "    }\n",
       "\n",
       "    .dataframe tbody tr th {\n",
       "        vertical-align: top;\n",
       "    }\n",
       "\n",
       "    .dataframe thead th {\n",
       "        text-align: right;\n",
       "    }\n",
       "</style>\n",
       "<table border=\"1\" class=\"dataframe\">\n",
       "  <thead>\n",
       "    <tr style=\"text-align: right;\">\n",
       "      <th></th>\n",
       "      <th>publish_date</th>\n",
       "      <th>headline_category</th>\n",
       "      <th>headline_text</th>\n",
       "    </tr>\n",
       "  </thead>\n",
       "  <tbody>\n",
       "    <tr>\n",
       "      <th>0</th>\n",
       "      <td>20010102</td>\n",
       "      <td>unknown</td>\n",
       "      <td>Status quo will not be disturbed at Ayodhya; s...</td>\n",
       "    </tr>\n",
       "    <tr>\n",
       "      <th>1</th>\n",
       "      <td>20010102</td>\n",
       "      <td>unknown</td>\n",
       "      <td>Fissures in Hurriyat over Pak visit</td>\n",
       "    </tr>\n",
       "    <tr>\n",
       "      <th>2</th>\n",
       "      <td>20010102</td>\n",
       "      <td>unknown</td>\n",
       "      <td>America's unwanted heading for India?</td>\n",
       "    </tr>\n",
       "    <tr>\n",
       "      <th>3</th>\n",
       "      <td>20010102</td>\n",
       "      <td>unknown</td>\n",
       "      <td>For bigwigs; it is destination Goa</td>\n",
       "    </tr>\n",
       "    <tr>\n",
       "      <th>4</th>\n",
       "      <td>20010102</td>\n",
       "      <td>unknown</td>\n",
       "      <td>Extra buses to clear tourist traffic</td>\n",
       "    </tr>\n",
       "  </tbody>\n",
       "</table>\n",
       "</div>"
      ],
      "text/plain": [
       "   publish_date headline_category  \\\n",
       "0      20010102           unknown   \n",
       "1      20010102           unknown   \n",
       "2      20010102           unknown   \n",
       "3      20010102           unknown   \n",
       "4      20010102           unknown   \n",
       "\n",
       "                                       headline_text  \n",
       "0  Status quo will not be disturbed at Ayodhya; s...  \n",
       "1                Fissures in Hurriyat over Pak visit  \n",
       "2              America's unwanted heading for India?  \n",
       "3                 For bigwigs; it is destination Goa  \n",
       "4               Extra buses to clear tourist traffic  "
      ]
     },
     "execution_count": 24,
     "metadata": {},
     "output_type": "execute_result"
    }
   ],
   "source": [
    "df1.head()"
   ]
  },
  {
   "cell_type": "code",
   "execution_count": 25,
   "metadata": {},
   "outputs": [
    {
     "data": {
      "text/html": [
       "<div>\n",
       "<style scoped>\n",
       "    .dataframe tbody tr th:only-of-type {\n",
       "        vertical-align: middle;\n",
       "    }\n",
       "\n",
       "    .dataframe tbody tr th {\n",
       "        vertical-align: top;\n",
       "    }\n",
       "\n",
       "    .dataframe thead th {\n",
       "        text-align: right;\n",
       "    }\n",
       "</style>\n",
       "<table border=\"1\" class=\"dataframe\">\n",
       "  <thead>\n",
       "    <tr style=\"text-align: right;\">\n",
       "      <th></th>\n",
       "      <th>publish_date</th>\n",
       "    </tr>\n",
       "  </thead>\n",
       "  <tbody>\n",
       "    <tr>\n",
       "      <th>publish_date</th>\n",
       "      <td>1.0</td>\n",
       "    </tr>\n",
       "  </tbody>\n",
       "</table>\n",
       "</div>"
      ],
      "text/plain": [
       "              publish_date\n",
       "publish_date           1.0"
      ]
     },
     "execution_count": 25,
     "metadata": {},
     "output_type": "execute_result"
    }
   ],
   "source": [
    "df1.corr(method ='pearson')"
   ]
  },
  {
   "cell_type": "code",
   "execution_count": 26,
   "metadata": {},
   "outputs": [
    {
     "data": {
      "image/png": "[encoded data removed]",
      "text/plain": [
       "<Figure size 180x180 with 2 Axes>"
      ]
     },
     "metadata": {},
     "output_type": "display_data"
    }
   ],
   "source": [
    "sns.set_palette('magma')\n",
    "sns.pairplot(df1)\n",
    "plt.show()"
   ]
  },
  {
   "cell_type": "code",
   "execution_count": 27,
   "metadata": {},
   "outputs": [
    {
     "data": {
      "text/plain": [
       "Straight Answers                                                    6723\n",
       "Cartoons                                                            1536\n",
       "Straight answers                                                    1500\n",
       "Photogallery                                                        1353\n",
       "Your say                                                            1012\n",
       "                                                                    ... \n",
       "Kailas Menon shares a musical memory from the making of 'Finals'       1\n",
       "Tanaaz Irani back in comedy show                                       1\n",
       "Ready to dress the world                                               1\n",
       "Now; BSP leaders woo Vaishya community; offer more tickets             1\n",
       "Spirit smugglers turn to waterways                                     1\n",
       "Name: headline_text, Length: 3168800, dtype: int64"
      ]
     },
     "execution_count": 27,
     "metadata": {},
     "output_type": "execute_result"
    }
   ],
   "source": [
    "df1['headline_text'].value_counts()"
   ]
  },
  {
   "cell_type": "code",
   "execution_count": 28,
   "metadata": {},
   "outputs": [
    {
     "data": {
      "text/plain": [
       "india                                           288541\n",
       "unknown                                         209582\n",
       "city.mumbai                                     134428\n",
       "city.delhi                                      127717\n",
       "business.india-business                         116761\n",
       "                                                 ...  \n",
       "preeti-shenoy                                        8\n",
       "entertainment.hindi.music.singer-of-the-week         8\n",
       "brandwire.technology.internet-apps                   8\n",
       "iim-fee-row                                          8\n",
       "editorialt                                           8\n",
       "Name: headline_category, Length: 1013, dtype: int64"
      ]
     },
     "execution_count": 28,
     "metadata": {},
     "output_type": "execute_result"
    }
   ],
   "source": [
    "df1['headline_category'].value_counts()"
   ]
  },
  {
   "cell_type": "markdown",
   "metadata": {},
   "source": [
    "### Exploratory Data Analysis using NLP and NLTK tools"
   ]
  },
  {
   "cell_type": "code",
   "execution_count": 29,
   "metadata": {},
   "outputs": [
    {
     "data": {
      "image/png": "[encoded data removed]",
      "text/plain": [
       "<Figure size 1080x1080 with 1 Axes>"
      ]
     },
     "metadata": {},
     "output_type": "display_data"
    }
   ],
   "source": [
    "df1['headline_text'].str.len().hist()\n",
    "plt.show()"
   ]
  },
  {
   "cell_type": "markdown",
   "metadata": {},
   "source": [
    "This histogram shows that news headlines range from 10 to 70 characters and generally, it is between 25 to 55 characters. now, we will move on to data exploration at a word-level. let's plot the number of words appearing in each news headline."
   ]
  },
  {
   "cell_type": "code",
   "execution_count": 30,
   "metadata": {},
   "outputs": [
    {
     "data": {
      "image/png": "[encoded data removed]",
      "text/plain": [
       "<Figure size 1080x1080 with 1 Axes>"
      ]
     },
     "metadata": {},
     "output_type": "display_data"
    }
   ],
   "source": [
    "df1['headline_text'].str.split().\\\n",
    "    apply(lambda x : [len(i) for i in x]).\\\n",
    "    map(lambda x : np.mean(x)).hist()\n",
    "plt.show()"
   ]
  },
  {
   "cell_type": "markdown",
   "metadata": {},
   "source": [
    "The average word length ranges between 1 to 18 with 10 being the most common length. Does it mean that people are using really short words in news headlines?\n",
    "Lets find out. One reason, why this may not be true is stopwords. Stopwords are the words that are most commonly used in any language such as \"the\", \"an\", \"a\" etc. As these words probably small in length these words may have caused the above graph to be left-skewed."
   ]
  },
  {
   "cell_type": "markdown",
   "metadata": {},
   "source": [
    "Analyzing the amount and the types of stopwords can give us some good insights into the data. To get the corpus containing stopwords you can use the #nltk library. Nltk contains stopwords from many languages, since we are only dealing with english news. I will filter the english stopwords from the corpus"
   ]
  },
  {
   "cell_type": "code",
   "execution_count": 31,
   "metadata": {},
   "outputs": [
    {
     "name": "stderr",
     "output_type": "stream",
     "text": [
      "[nltk_data] Downloading package stopwords to\n",
      "[nltk_data]     C:\\Users\\Admin\\AppData\\Roaming\\nltk_data...\n",
      "[nltk_data]   Package stopwords is already up-to-date!\n"
     ]
    }
   ],
   "source": [
    "\n",
    "\n",
    "import nltk\n",
    "from nltk.corpus import stopwords\n",
    "nltk.download('stopwords')\n",
    "stop = set(stopwords.words('english'))"
   ]
  },
  {
   "cell_type": "code",
   "execution_count": 32,
   "metadata": {},
   "outputs": [],
   "source": [
    "corpus = []\n",
    "new = df1['headline_text'].str.split()\n",
    "new = new.values.tolist()\n",
    "corpus = [word for i in new for word in i]"
   ]
  },
  {
   "cell_type": "code",
   "execution_count": 33,
   "metadata": {},
   "outputs": [],
   "source": [
    "from collections import defaultdict\n",
    "\n",
    "dict = defaultdict(int)\n",
    "for word in corpus:\n",
    "    if word in stop:\n",
    "        dict[word]+=1"
   ]
  },
  {
   "cell_type": "markdown",
   "metadata": {},
   "source": [
    "Now we know which stopwords occur frquently in our text, let's inspect which words other than these stopwords occur frequently. We will use the counter function from the collection library to count and store the occurrences of each word in a list of tupples. "
   ]
  },
  {
   "cell_type": "code",
   "execution_count": 34,
   "metadata": {},
   "outputs": [],
   "source": [
    "from collections import Counter\n",
    "\n",
    "counter = Counter(corpus)\n",
    "most = counter.most_common()\n",
    "x, y = [], []\n",
    "for word, count in most[:40]:\n",
    "    if (word not in stop):\n",
    "        x.append(word)\n",
    "        y.append(count)"
   ]
  },
  {
   "cell_type": "code",
   "execution_count": 35,
   "metadata": {},
   "outputs": [
    {
     "data": {
      "image/png": "[encoded data removed]",
      "text/plain": [
       "<Figure size 1080x1080 with 1 Axes>"
      ]
     },
     "metadata": {},
     "output_type": "display_data"
    }
   ],
   "source": [
    "sns.barplot(x = y , y = x)\n",
    "plt.show()"
   ]
  },
  {
   "cell_type": "markdown",
   "metadata": {},
   "source": [
    "wow! the \"Rs\", \"India\" and \"held\" dominate the headlines over the last 15 year but when we observe other words in the graph they are all related to the RS - India"
   ]
  },
  {
   "cell_type": "markdown",
   "metadata": {},
   "source": [
    "### Ngram Exploration"
   ]
  },
  {
   "cell_type": "markdown",
   "metadata": {},
   "source": [
    "Ngram are simply contiguous sequences of n words. For example \"riverbank\", \"The three muskedteers\" etc. If the number of words is 2, It is called bigram. For 3 words it is called a trigram and so on."
   ]
  },
  {
   "cell_type": "code",
   "execution_count": 36,
   "metadata": {},
   "outputs": [
    {
     "data": {
      "text/plain": [
       "[('I', 'went'),\n",
       " ('went', 'to'),\n",
       " ('to', 'the'),\n",
       " ('the', 'river'),\n",
       " ('river', 'bank')]"
      ]
     },
     "execution_count": 36,
     "metadata": {},
     "output_type": "execute_result"
    }
   ],
   "source": [
    "from nltk.util import ngrams\n",
    "list(ngrams(['I' , 'went', 'to', 'the', 'river', 'bank'], 2))"
   ]
  },
  {
   "cell_type": "code",
   "execution_count": 37,
   "metadata": {},
   "outputs": [],
   "source": [
    "from sklearn.feature_extraction.text import CountVectorizer\n",
    "def get_top_ngram(corpus, n = None):\n",
    "    vec = CountVectorizer(ngram_range = (n , n)).fit(corpus)\n",
    "    bag_of_words = vec.transform(corpus)\n",
    "    sum_words = bag_of_words.sum(axis = 0)\n",
    "    words_frq = [(word, sum_words[0, idx])\n",
    "                  for word, idx in vec.vocabulary_.items()]\n",
    "    words_feq = sorted(words_frq, key = lambda x : x[1], reverse = True)\n",
    "    return words_frq[:10]"
   ]
  },
  {
   "cell_type": "code",
   "execution_count": 38,
   "metadata": {},
   "outputs": [
    {
     "data": {
      "image/png": "[encoded data removed]",
      "text/plain": [
       "<Figure size 1080x1080 with 1 Axes>"
      ]
     },
     "metadata": {},
     "output_type": "display_data"
    }
   ],
   "source": [
    "top_n_bigrams = get_top_ngram(df1['headline_text'], 2)[:10]\n",
    "x,y = map(list, zip(*top_n_bigrams))\n",
    "sns.barplot(x = y, y = x)\n",
    "plt.show()"
   ]
  },
  {
   "cell_type": "markdown",
   "metadata": {},
   "source": [
    "# concatenating all the headline_text column values of same date in publish_date column"
   ]
  },
  {
   "cell_type": "markdown",
   "metadata": {},
   "source": [
    "### Textblob"
   ]
  },
  {
   "cell_type": "code",
   "execution_count": 39,
   "metadata": {},
   "outputs": [
    {
     "data": {
      "text/plain": [
       "Sentiment(polarity=-0.2, subjectivity=0.0)"
      ]
     },
     "execution_count": 39,
     "metadata": {},
     "output_type": "execute_result"
    }
   ],
   "source": [
    "from textblob import TextBlob\n",
    "TextBlob('100 people killed in Iraq').sentiment"
   ]
  },
  {
   "cell_type": "code",
   "execution_count": 41,
   "metadata": {},
   "outputs": [
    {
     "data": {
      "image/png": "[encoded data removed]",
      "text/plain": [
       "<Figure size 1080x1080 with 1 Axes>"
      ]
     },
     "metadata": {},
     "output_type": "display_data"
    }
   ],
   "source": [
    "def polarity(text):\n",
    "    return TextBlob(text).sentiment.polarity\n",
    "df1['polarity_score'] = df1['headline_text'].\\\n",
    "   apply(lambda x : polarity(x))\n",
    "df1['polarity_score'].hist()\n",
    "plt.show()"
   ]
  },
  {
   "cell_type": "code",
   "execution_count": 42,
   "metadata": {},
   "outputs": [
    {
     "data": {
      "image/png": "[encoded data removed]",
      "text/plain": [
       "<Figure size 1080x1080 with 1 Axes>"
      ]
     },
     "metadata": {},
     "output_type": "display_data"
    }
   ],
   "source": [
    "def sentiment(x):\n",
    "    if x < 0:\n",
    "        return 'negative'\n",
    "    elif x == 0:\n",
    "        return 'neutral'\n",
    "    else:\n",
    "        return 'positive'\n",
    "    \n",
    "df1['polarity'] = df1['polarity_score'].\\\n",
    "   map(lambda x : sentiment(x))\n",
    "plt.bar(df1.polarity.value_counts().index,\n",
    "        df1.polarity.value_counts())\n",
    "plt.show()"
   ]
  },
  {
   "cell_type": "code",
   "execution_count": 43,
   "metadata": {},
   "outputs": [
    {
     "data": {
      "image/png": "[encoded data removed]",
      "text/plain": [
       "<Figure size 1080x1080 with 1 Axes>"
      ]
     },
     "metadata": {},
     "output_type": "display_data"
    }
   ],
   "source": [
    "def sub(text):\n",
    "    return TextBlob(text).sentiment.subjectivity\n",
    "df1['subjectivity'] = df1['headline_text'].\\\n",
    "   apply(lambda x : sub(x))\n",
    "df1['subjectivity'].hist()\n",
    "plt.show()"
   ]
  },
  {
   "cell_type": "code",
   "execution_count": 44,
   "metadata": {},
   "outputs": [
    {
     "data": {
      "text/plain": [
       "0    0.000000\n",
       "1    0.000000\n",
       "2    0.000000\n",
       "3    0.000000\n",
       "4    0.241667\n",
       "Name: subjectivity, dtype: float64"
      ]
     },
     "execution_count": 44,
     "metadata": {},
     "output_type": "execute_result"
    }
   ],
   "source": [
    "df1['subjectivity'].head()"
   ]
  },
  {
   "cell_type": "code",
   "execution_count": 45,
   "metadata": {},
   "outputs": [
    {
     "data": {
      "text/plain": [
       "4            Extra buses to clear tourist traffic\n",
       "12    Will Qureshi's return really help the govt?\n",
       "30           Extra buses to clear tourist traffic\n",
       "38    Will Qureshi's return really help the govt?\n",
       "52          Come to Nandi Hills...and you can fly\n",
       "Name: headline_text, dtype: object"
      ]
     },
     "execution_count": 45,
     "metadata": {},
     "output_type": "execute_result"
    }
   ],
   "source": [
    "df1[df1['polarity'] == 'positive']['headline_text'].head()"
   ]
  },
  {
   "cell_type": "code",
   "execution_count": 46,
   "metadata": {},
   "outputs": [
    {
     "data": {
      "text/plain": [
       "65         Destroying myths and doubts on sexuality\n",
       "86         Powerless north India gropes in the dark\n",
       "104                        10-year-old girl missing\n",
       "131              Net lottery: A winner or a sucker?\n",
       "142    Mental illness can pass from parent to child\n",
       "Name: headline_text, dtype: object"
      ]
     },
     "execution_count": 46,
     "metadata": {},
     "output_type": "execute_result"
    }
   ],
   "source": [
    "df1[df1['polarity'] == 'negative']['headline_text'].head()"
   ]
  },
  {
   "cell_type": "code",
   "execution_count": 47,
   "metadata": {},
   "outputs": [
    {
     "data": {
      "text/html": [
       "<div>\n",
       "<style scoped>\n",
       "    .dataframe tbody tr th:only-of-type {\n",
       "        vertical-align: middle;\n",
       "    }\n",
       "\n",
       "    .dataframe tbody tr th {\n",
       "        vertical-align: top;\n",
       "    }\n",
       "\n",
       "    .dataframe thead th {\n",
       "        text-align: right;\n",
       "    }\n",
       "</style>\n",
       "<table border=\"1\" class=\"dataframe\">\n",
       "  <thead>\n",
       "    <tr style=\"text-align: right;\">\n",
       "      <th></th>\n",
       "      <th>High</th>\n",
       "      <th>Low</th>\n",
       "      <th>Open</th>\n",
       "      <th>Close</th>\n",
       "      <th>Volume</th>\n",
       "      <th>Adj Close</th>\n",
       "    </tr>\n",
       "    <tr>\n",
       "      <th>Date</th>\n",
       "      <th></th>\n",
       "      <th></th>\n",
       "      <th></th>\n",
       "      <th></th>\n",
       "      <th></th>\n",
       "      <th></th>\n",
       "    </tr>\n",
       "  </thead>\n",
       "  <tbody>\n",
       "    <tr>\n",
       "      <th>2010-01-04</th>\n",
       "      <td>76.446922</td>\n",
       "      <td>75.299370</td>\n",
       "      <td>75.690025</td>\n",
       "      <td>75.934181</td>\n",
       "      <td>9752599.0</td>\n",
       "      <td>56.071003</td>\n",
       "    </tr>\n",
       "    <tr>\n",
       "      <th>2010-01-05</th>\n",
       "      <td>79.547775</td>\n",
       "      <td>76.178345</td>\n",
       "      <td>76.446922</td>\n",
       "      <td>79.205948</td>\n",
       "      <td>17979545.0</td>\n",
       "      <td>58.486931</td>\n",
       "    </tr>\n",
       "    <tr>\n",
       "      <th>2010-01-06</th>\n",
       "      <td>81.208069</td>\n",
       "      <td>79.596603</td>\n",
       "      <td>79.596603</td>\n",
       "      <td>80.841827</td>\n",
       "      <td>23085887.0</td>\n",
       "      <td>59.694878</td>\n",
       "    </tr>\n",
       "    <tr>\n",
       "      <th>2010-01-07</th>\n",
       "      <td>81.647560</td>\n",
       "      <td>79.865181</td>\n",
       "      <td>81.012741</td>\n",
       "      <td>80.622086</td>\n",
       "      <td>8630755.0</td>\n",
       "      <td>59.532623</td>\n",
       "    </tr>\n",
       "    <tr>\n",
       "      <th>2010-01-08</th>\n",
       "      <td>81.256905</td>\n",
       "      <td>79.645439</td>\n",
       "      <td>80.963913</td>\n",
       "      <td>79.938431</td>\n",
       "      <td>5597801.0</td>\n",
       "      <td>59.027798</td>\n",
       "    </tr>\n",
       "  </tbody>\n",
       "</table>\n",
       "</div>"
      ],
      "text/plain": [
       "                 High        Low       Open      Close      Volume  Adj Close\n",
       "Date                                                                         \n",
       "2010-01-04  76.446922  75.299370  75.690025  75.934181   9752599.0  56.071003\n",
       "2010-01-05  79.547775  76.178345  76.446922  79.205948  17979545.0  58.486931\n",
       "2010-01-06  81.208069  79.596603  79.596603  80.841827  23085887.0  59.694878\n",
       "2010-01-07  81.647560  79.865181  81.012741  80.622086   8630755.0  59.532623\n",
       "2010-01-08  81.256905  79.645439  80.963913  79.938431   5597801.0  59.027798"
      ]
     },
     "execution_count": 47,
     "metadata": {},
     "output_type": "execute_result"
    }
   ],
   "source": [
    "df.head()\n"
   ]
  },
  {
   "cell_type": "code",
   "execution_count": 48,
   "metadata": {
    "scrolled": true
   },
   "outputs": [
    {
     "data": {
      "text/html": [
       "<div>\n",
       "<style scoped>\n",
       "    .dataframe tbody tr th:only-of-type {\n",
       "        vertical-align: middle;\n",
       "    }\n",
       "\n",
       "    .dataframe tbody tr th {\n",
       "        vertical-align: top;\n",
       "    }\n",
       "\n",
       "    .dataframe thead th {\n",
       "        text-align: right;\n",
       "    }\n",
       "</style>\n",
       "<table border=\"1\" class=\"dataframe\">\n",
       "  <thead>\n",
       "    <tr style=\"text-align: right;\">\n",
       "      <th></th>\n",
       "      <th>publish_date</th>\n",
       "      <th>headline_category</th>\n",
       "      <th>headline_text</th>\n",
       "      <th>polarity_score</th>\n",
       "      <th>polarity</th>\n",
       "      <th>subjectivity</th>\n",
       "    </tr>\n",
       "  </thead>\n",
       "  <tbody>\n",
       "    <tr>\n",
       "      <th>0</th>\n",
       "      <td>20010102</td>\n",
       "      <td>unknown</td>\n",
       "      <td>Status quo will not be disturbed at Ayodhya; s...</td>\n",
       "      <td>0.00</td>\n",
       "      <td>neutral</td>\n",
       "      <td>0.000000</td>\n",
       "    </tr>\n",
       "    <tr>\n",
       "      <th>1</th>\n",
       "      <td>20010102</td>\n",
       "      <td>unknown</td>\n",
       "      <td>Fissures in Hurriyat over Pak visit</td>\n",
       "      <td>0.00</td>\n",
       "      <td>neutral</td>\n",
       "      <td>0.000000</td>\n",
       "    </tr>\n",
       "    <tr>\n",
       "      <th>2</th>\n",
       "      <td>20010102</td>\n",
       "      <td>unknown</td>\n",
       "      <td>America's unwanted heading for India?</td>\n",
       "      <td>0.00</td>\n",
       "      <td>neutral</td>\n",
       "      <td>0.000000</td>\n",
       "    </tr>\n",
       "    <tr>\n",
       "      <th>3</th>\n",
       "      <td>20010102</td>\n",
       "      <td>unknown</td>\n",
       "      <td>For bigwigs; it is destination Goa</td>\n",
       "      <td>0.00</td>\n",
       "      <td>neutral</td>\n",
       "      <td>0.000000</td>\n",
       "    </tr>\n",
       "    <tr>\n",
       "      <th>4</th>\n",
       "      <td>20010102</td>\n",
       "      <td>unknown</td>\n",
       "      <td>Extra buses to clear tourist traffic</td>\n",
       "      <td>0.05</td>\n",
       "      <td>positive</td>\n",
       "      <td>0.241667</td>\n",
       "    </tr>\n",
       "  </tbody>\n",
       "</table>\n",
       "</div>"
      ],
      "text/plain": [
       "   publish_date headline_category  \\\n",
       "0      20010102           unknown   \n",
       "1      20010102           unknown   \n",
       "2      20010102           unknown   \n",
       "3      20010102           unknown   \n",
       "4      20010102           unknown   \n",
       "\n",
       "                                       headline_text  polarity_score  \\\n",
       "0  Status quo will not be disturbed at Ayodhya; s...            0.00   \n",
       "1                Fissures in Hurriyat over Pak visit            0.00   \n",
       "2              America's unwanted heading for India?            0.00   \n",
       "3                 For bigwigs; it is destination Goa            0.00   \n",
       "4               Extra buses to clear tourist traffic            0.05   \n",
       "\n",
       "   polarity  subjectivity  \n",
       "0   neutral      0.000000  \n",
       "1   neutral      0.000000  \n",
       "2   neutral      0.000000  \n",
       "3   neutral      0.000000  \n",
       "4  positive      0.241667  "
      ]
     },
     "execution_count": 48,
     "metadata": {},
     "output_type": "execute_result"
    }
   ],
   "source": [
    "df1.head()"
   ]
  },
  {
   "cell_type": "markdown",
   "metadata": {},
   "source": [
    "# Removing Duplicate Values"
   ]
  },
  {
   "cell_type": "code",
   "execution_count": 49,
   "metadata": {},
   "outputs": [
    {
     "data": {
      "text/plain": [
       "24191"
      ]
     },
     "execution_count": 49,
     "metadata": {},
     "output_type": "execute_result"
    }
   ],
   "source": [
    "df1.duplicated().sum()"
   ]
  },
  {
   "cell_type": "code",
   "execution_count": 50,
   "metadata": {},
   "outputs": [
    {
     "data": {
      "text/plain": [
       "46130"
      ]
     },
     "execution_count": 50,
     "metadata": {},
     "output_type": "execute_result"
    }
   ],
   "source": [
    "df1.duplicated(keep=False).sum()"
   ]
  },
  {
   "cell_type": "code",
   "execution_count": 51,
   "metadata": {},
   "outputs": [],
   "source": [
    "cols = list(df1.columns)\n",
    "df1.sort_values(by=cols, inplace=True, ignore_index=True)"
   ]
  },
  {
   "cell_type": "code",
   "execution_count": 52,
   "metadata": {},
   "outputs": [
    {
     "data": {
      "text/html": [
       "<div>\n",
       "<style scoped>\n",
       "    .dataframe tbody tr th:only-of-type {\n",
       "        vertical-align: middle;\n",
       "    }\n",
       "\n",
       "    .dataframe tbody tr th {\n",
       "        vertical-align: top;\n",
       "    }\n",
       "\n",
       "    .dataframe thead th {\n",
       "        text-align: right;\n",
       "    }\n",
       "</style>\n",
       "<table border=\"1\" class=\"dataframe\">\n",
       "  <thead>\n",
       "    <tr style=\"text-align: right;\">\n",
       "      <th></th>\n",
       "      <th>publish_date</th>\n",
       "      <th>headline_category</th>\n",
       "      <th>headline_text</th>\n",
       "      <th>polarity_score</th>\n",
       "      <th>polarity</th>\n",
       "      <th>subjectivity</th>\n",
       "    </tr>\n",
       "  </thead>\n",
       "  <tbody>\n",
       "    <tr>\n",
       "      <th>3</th>\n",
       "      <td>20010102</td>\n",
       "      <td>unknown</td>\n",
       "      <td>America's unwanted heading for India?</td>\n",
       "      <td>0.0</td>\n",
       "      <td>neutral</td>\n",
       "      <td>0.0</td>\n",
       "    </tr>\n",
       "    <tr>\n",
       "      <th>4</th>\n",
       "      <td>20010102</td>\n",
       "      <td>unknown</td>\n",
       "      <td>America's unwanted heading for India?</td>\n",
       "      <td>0.0</td>\n",
       "      <td>neutral</td>\n",
       "      <td>0.0</td>\n",
       "    </tr>\n",
       "    <tr>\n",
       "      <th>5</th>\n",
       "      <td>20010102</td>\n",
       "      <td>unknown</td>\n",
       "      <td>America's unwanted heading for India?</td>\n",
       "      <td>0.0</td>\n",
       "      <td>neutral</td>\n",
       "      <td>0.0</td>\n",
       "    </tr>\n",
       "    <tr>\n",
       "      <th>6</th>\n",
       "      <td>20010102</td>\n",
       "      <td>unknown</td>\n",
       "      <td>America's unwanted heading for India?</td>\n",
       "      <td>0.0</td>\n",
       "      <td>neutral</td>\n",
       "      <td>0.0</td>\n",
       "    </tr>\n",
       "    <tr>\n",
       "      <th>9</th>\n",
       "      <td>20010102</td>\n",
       "      <td>unknown</td>\n",
       "      <td>BBC's reality TV will focus on AIIMS</td>\n",
       "      <td>0.0</td>\n",
       "      <td>neutral</td>\n",
       "      <td>0.0</td>\n",
       "    </tr>\n",
       "    <tr>\n",
       "      <th>...</th>\n",
       "      <td>...</td>\n",
       "      <td>...</td>\n",
       "      <td>...</td>\n",
       "      <td>...</td>\n",
       "      <td>...</td>\n",
       "      <td>...</td>\n",
       "    </tr>\n",
       "    <tr>\n",
       "      <th>3421893</th>\n",
       "      <td>20201227</td>\n",
       "      <td>city.nagpur</td>\n",
       "      <td>Govt forcing helpless sr citizens to fight leg...</td>\n",
       "      <td>0.2</td>\n",
       "      <td>positive</td>\n",
       "      <td>0.2</td>\n",
       "    </tr>\n",
       "    <tr>\n",
       "      <th>3422119</th>\n",
       "      <td>20201228</td>\n",
       "      <td>city.bareilly</td>\n",
       "      <td>Rampur's Hunar Haat a platform for artisans fr...</td>\n",
       "      <td>0.0</td>\n",
       "      <td>neutral</td>\n",
       "      <td>0.0</td>\n",
       "    </tr>\n",
       "    <tr>\n",
       "      <th>3422120</th>\n",
       "      <td>20201228</td>\n",
       "      <td>city.bareilly</td>\n",
       "      <td>Rampur's Hunar Haat a platform for artisans fr...</td>\n",
       "      <td>0.0</td>\n",
       "      <td>neutral</td>\n",
       "      <td>0.0</td>\n",
       "    </tr>\n",
       "    <tr>\n",
       "      <th>3422956</th>\n",
       "      <td>20201229</td>\n",
       "      <td>city.pune</td>\n",
       "      <td>PMC to draft separate DP after 23 villages' me...</td>\n",
       "      <td>0.0</td>\n",
       "      <td>neutral</td>\n",
       "      <td>0.0</td>\n",
       "    </tr>\n",
       "    <tr>\n",
       "      <th>3422957</th>\n",
       "      <td>20201229</td>\n",
       "      <td>city.pune</td>\n",
       "      <td>PMC to draft separate DP after 23 villages' me...</td>\n",
       "      <td>0.0</td>\n",
       "      <td>neutral</td>\n",
       "      <td>0.0</td>\n",
       "    </tr>\n",
       "  </tbody>\n",
       "</table>\n",
       "<p>46130 rows × 6 columns</p>\n",
       "</div>"
      ],
      "text/plain": [
       "         publish_date headline_category  \\\n",
       "3            20010102           unknown   \n",
       "4            20010102           unknown   \n",
       "5            20010102           unknown   \n",
       "6            20010102           unknown   \n",
       "9            20010102           unknown   \n",
       "...               ...               ...   \n",
       "3421893      20201227       city.nagpur   \n",
       "3422119      20201228     city.bareilly   \n",
       "3422120      20201228     city.bareilly   \n",
       "3422956      20201229         city.pune   \n",
       "3422957      20201229         city.pune   \n",
       "\n",
       "                                             headline_text  polarity_score  \\\n",
       "3                    America's unwanted heading for India?             0.0   \n",
       "4                    America's unwanted heading for India?             0.0   \n",
       "5                    America's unwanted heading for India?             0.0   \n",
       "6                    America's unwanted heading for India?             0.0   \n",
       "9                     BBC's reality TV will focus on AIIMS             0.0   \n",
       "...                                                    ...             ...   \n",
       "3421893  Govt forcing helpless sr citizens to fight leg...             0.2   \n",
       "3422119  Rampur's Hunar Haat a platform for artisans fr...             0.0   \n",
       "3422120  Rampur's Hunar Haat a platform for artisans fr...             0.0   \n",
       "3422956  PMC to draft separate DP after 23 villages' me...             0.0   \n",
       "3422957  PMC to draft separate DP after 23 villages' me...             0.0   \n",
       "\n",
       "         polarity  subjectivity  \n",
       "3         neutral           0.0  \n",
       "4         neutral           0.0  \n",
       "5         neutral           0.0  \n",
       "6         neutral           0.0  \n",
       "9         neutral           0.0  \n",
       "...           ...           ...  \n",
       "3421893  positive           0.2  \n",
       "3422119   neutral           0.0  \n",
       "3422120   neutral           0.0  \n",
       "3422956   neutral           0.0  \n",
       "3422957   neutral           0.0  \n",
       "\n",
       "[46130 rows x 6 columns]"
      ]
     },
     "execution_count": 52,
     "metadata": {},
     "output_type": "execute_result"
    }
   ],
   "source": [
    "df1[df1.duplicated(keep=False)]"
   ]
  },
  {
   "cell_type": "code",
   "execution_count": 53,
   "metadata": {},
   "outputs": [],
   "source": [
    "df1.drop_duplicates(keep='last', inplace=True, ignore_index=True)"
   ]
  },
  {
   "cell_type": "code",
   "execution_count": 54,
   "metadata": {},
   "outputs": [
    {
     "data": {
      "text/plain": [
       "0"
      ]
     },
     "execution_count": 54,
     "metadata": {},
     "output_type": "execute_result"
    }
   ],
   "source": [
    "df1.duplicated().sum()"
   ]
  },
  {
   "cell_type": "code",
   "execution_count": 55,
   "metadata": {},
   "outputs": [
    {
     "data": {
      "text/plain": [
       "(3399876, 6)"
      ]
     },
     "execution_count": 55,
     "metadata": {},
     "output_type": "execute_result"
    }
   ],
   "source": [
    "df1.shape"
   ]
  },
  {
   "cell_type": "markdown",
   "metadata": {},
   "source": [
    "# Converting all the headlines of a day to a single date for merging"
   ]
  },
  {
   "cell_type": "code",
   "execution_count": 56,
   "metadata": {},
   "outputs": [],
   "source": [
    "lst = df1['publish_date'].value_counts().index.tolist()"
   ]
  },
  {
   "cell_type": "code",
   "execution_count": 57,
   "metadata": {},
   "outputs": [],
   "source": [
    "new = []\n",
    "for x in lst:\n",
    "  dff = df1.loc[df1['publish_date'] == x]\n",
    "  headlinetext = ''\n",
    "  publishdate = str(x)\n",
    "  headlinetext = dff['headline_text'].iloc[0]\n",
    "  for i in range(1 , len(dff)):\n",
    "    headlinetext = headlinetext + '. '+ dff['headline_text'].iloc[i]  \n",
    "  new.append(headlinetext)"
   ]
  },
  {
   "cell_type": "code",
   "execution_count": 58,
   "metadata": {},
   "outputs": [],
   "source": [
    "newsdf = pd.DataFrame({'publish_date': lst, 'headline_text' : new})"
   ]
  },
  {
   "cell_type": "code",
   "execution_count": 60,
   "metadata": {},
   "outputs": [],
   "source": [
    "newsdf.sort_values(by='publish_date', inplace=True, ignore_index=True)"
   ]
  },
  {
   "cell_type": "code",
   "execution_count": 61,
   "metadata": {},
   "outputs": [
    {
     "data": {
      "text/html": [
       "<div>\n",
       "<style scoped>\n",
       "    .dataframe tbody tr th:only-of-type {\n",
       "        vertical-align: middle;\n",
       "    }\n",
       "\n",
       "    .dataframe tbody tr th {\n",
       "        vertical-align: top;\n",
       "    }\n",
       "\n",
       "    .dataframe thead th {\n",
       "        text-align: right;\n",
       "    }\n",
       "</style>\n",
       "<table border=\"1\" class=\"dataframe\">\n",
       "  <thead>\n",
       "    <tr style=\"text-align: right;\">\n",
       "      <th></th>\n",
       "      <th>publish_date</th>\n",
       "      <th>headline_text</th>\n",
       "    </tr>\n",
       "  </thead>\n",
       "  <tbody>\n",
       "    <tr>\n",
       "      <th>0</th>\n",
       "      <td>20010102</td>\n",
       "      <td>Raju Chacha. A noisy effort to spruce up Comme...</td>\n",
       "    </tr>\n",
       "    <tr>\n",
       "      <th>1</th>\n",
       "      <td>20010103</td>\n",
       "      <td>'Devdas': Jinxed?. 10-year-old girl missing. 3...</td>\n",
       "    </tr>\n",
       "    <tr>\n",
       "      <th>2</th>\n",
       "      <td>20010104</td>\n",
       "      <td>Car dealers caught in Bihar sales tax ruling. ...</td>\n",
       "    </tr>\n",
       "    <tr>\n",
       "      <th>3</th>\n",
       "      <td>20010105</td>\n",
       "      <td>Nepal won't allow anti-India activities: Envoy...</td>\n",
       "    </tr>\n",
       "    <tr>\n",
       "      <th>4</th>\n",
       "      <td>20010106</td>\n",
       "      <td>Anti-immigration think-tank berates Clinton re...</td>\n",
       "    </tr>\n",
       "  </tbody>\n",
       "</table>\n",
       "</div>"
      ],
      "text/plain": [
       "   publish_date                                      headline_text\n",
       "0      20010102  Raju Chacha. A noisy effort to spruce up Comme...\n",
       "1      20010103  'Devdas': Jinxed?. 10-year-old girl missing. 3...\n",
       "2      20010104  Car dealers caught in Bihar sales tax ruling. ...\n",
       "3      20010105  Nepal won't allow anti-India activities: Envoy...\n",
       "4      20010106  Anti-immigration think-tank berates Clinton re..."
      ]
     },
     "execution_count": 61,
     "metadata": {},
     "output_type": "execute_result"
    }
   ],
   "source": [
    "newsdf.head()"
   ]
  },
  {
   "cell_type": "code",
   "execution_count": 62,
   "metadata": {},
   "outputs": [
    {
     "data": {
      "text/plain": [
       "(7262, 2)"
      ]
     },
     "execution_count": 62,
     "metadata": {},
     "output_type": "execute_result"
    }
   ],
   "source": [
    "newsdf.shape"
   ]
  },
  {
   "cell_type": "code",
   "execution_count": 63,
   "metadata": {},
   "outputs": [],
   "source": [
    "polarity = []\n",
    "subjectivity = []\n",
    "for idx, row in newsdf.iterrows():\n",
    "  polarity.append(TextBlob(row['headline_text']).sentiment[0])\n",
    "  subjectivity.append(TextBlob(row['headline_text']).sentiment[1])"
   ]
  },
  {
   "cell_type": "code",
   "execution_count": 64,
   "metadata": {},
   "outputs": [],
   "source": [
    "newsdf['polarity'] = polarity\n",
    "newsdf['subjectivity'] = subjectivity"
   ]
  },
  {
   "cell_type": "code",
   "execution_count": 65,
   "metadata": {},
   "outputs": [
    {
     "data": {
      "text/html": [
       "<div>\n",
       "<style scoped>\n",
       "    .dataframe tbody tr th:only-of-type {\n",
       "        vertical-align: middle;\n",
       "    }\n",
       "\n",
       "    .dataframe tbody tr th {\n",
       "        vertical-align: top;\n",
       "    }\n",
       "\n",
       "    .dataframe thead th {\n",
       "        text-align: right;\n",
       "    }\n",
       "</style>\n",
       "<table border=\"1\" class=\"dataframe\">\n",
       "  <thead>\n",
       "    <tr style=\"text-align: right;\">\n",
       "      <th></th>\n",
       "      <th>publish_date</th>\n",
       "      <th>headline_text</th>\n",
       "      <th>polarity</th>\n",
       "      <th>subjectivity</th>\n",
       "    </tr>\n",
       "  </thead>\n",
       "  <tbody>\n",
       "    <tr>\n",
       "      <th>0</th>\n",
       "      <td>20010102</td>\n",
       "      <td>Raju Chacha. A noisy effort to spruce up Comme...</td>\n",
       "      <td>0.193519</td>\n",
       "      <td>0.293056</td>\n",
       "    </tr>\n",
       "    <tr>\n",
       "      <th>1</th>\n",
       "      <td>20010103</td>\n",
       "      <td>'Devdas': Jinxed?. 10-year-old girl missing. 3...</td>\n",
       "      <td>0.088462</td>\n",
       "      <td>0.407692</td>\n",
       "    </tr>\n",
       "    <tr>\n",
       "      <th>2</th>\n",
       "      <td>20010104</td>\n",
       "      <td>Car dealers caught in Bihar sales tax ruling. ...</td>\n",
       "      <td>0.091426</td>\n",
       "      <td>0.481895</td>\n",
       "    </tr>\n",
       "    <tr>\n",
       "      <th>3</th>\n",
       "      <td>20010105</td>\n",
       "      <td>Nepal won't allow anti-India activities: Envoy...</td>\n",
       "      <td>0.257415</td>\n",
       "      <td>0.465542</td>\n",
       "    </tr>\n",
       "    <tr>\n",
       "      <th>4</th>\n",
       "      <td>20010106</td>\n",
       "      <td>Anti-immigration think-tank berates Clinton re...</td>\n",
       "      <td>0.219481</td>\n",
       "      <td>0.464935</td>\n",
       "    </tr>\n",
       "  </tbody>\n",
       "</table>\n",
       "</div>"
      ],
      "text/plain": [
       "   publish_date                                      headline_text  polarity  \\\n",
       "0      20010102  Raju Chacha. A noisy effort to spruce up Comme...  0.193519   \n",
       "1      20010103  'Devdas': Jinxed?. 10-year-old girl missing. 3...  0.088462   \n",
       "2      20010104  Car dealers caught in Bihar sales tax ruling. ...  0.091426   \n",
       "3      20010105  Nepal won't allow anti-India activities: Envoy...  0.257415   \n",
       "4      20010106  Anti-immigration think-tank berates Clinton re...  0.219481   \n",
       "\n",
       "   subjectivity  \n",
       "0      0.293056  \n",
       "1      0.407692  \n",
       "2      0.481895  \n",
       "3      0.465542  \n",
       "4      0.464935  "
      ]
     },
     "execution_count": 65,
     "metadata": {},
     "output_type": "execute_result"
    }
   ],
   "source": [
    "newsdf.head()"
   ]
  },
  {
   "cell_type": "code",
   "execution_count": 66,
   "metadata": {},
   "outputs": [
    {
     "data": {
      "text/plain": [
       "0"
      ]
     },
     "execution_count": 66,
     "metadata": {},
     "output_type": "execute_result"
    }
   ],
   "source": [
    "newsdf.isnull().sum().sum()"
   ]
  },
  {
   "cell_type": "code",
   "execution_count": 67,
   "metadata": {},
   "outputs": [],
   "source": [
    "newsdf.rename(columns={'publish_date': 'date'}, inplace = True)\n"
   ]
  },
  {
   "cell_type": "code",
   "execution_count": 68,
   "metadata": {},
   "outputs": [],
   "source": [
    "newsdf = newsdf.filter(['date', 'polarity', 'subjectivity'], axis=1)\n"
   ]
  },
  {
   "cell_type": "code",
   "execution_count": 69,
   "metadata": {},
   "outputs": [
    {
     "data": {
      "text/html": [
       "<div>\n",
       "<style scoped>\n",
       "    .dataframe tbody tr th:only-of-type {\n",
       "        vertical-align: middle;\n",
       "    }\n",
       "\n",
       "    .dataframe tbody tr th {\n",
       "        vertical-align: top;\n",
       "    }\n",
       "\n",
       "    .dataframe thead th {\n",
       "        text-align: right;\n",
       "    }\n",
       "</style>\n",
       "<table border=\"1\" class=\"dataframe\">\n",
       "  <thead>\n",
       "    <tr style=\"text-align: right;\">\n",
       "      <th></th>\n",
       "      <th>date</th>\n",
       "      <th>polarity</th>\n",
       "      <th>subjectivity</th>\n",
       "    </tr>\n",
       "  </thead>\n",
       "  <tbody>\n",
       "    <tr>\n",
       "      <th>0</th>\n",
       "      <td>20010102</td>\n",
       "      <td>0.193519</td>\n",
       "      <td>0.293056</td>\n",
       "    </tr>\n",
       "    <tr>\n",
       "      <th>1</th>\n",
       "      <td>20010103</td>\n",
       "      <td>0.088462</td>\n",
       "      <td>0.407692</td>\n",
       "    </tr>\n",
       "    <tr>\n",
       "      <th>2</th>\n",
       "      <td>20010104</td>\n",
       "      <td>0.091426</td>\n",
       "      <td>0.481895</td>\n",
       "    </tr>\n",
       "    <tr>\n",
       "      <th>3</th>\n",
       "      <td>20010105</td>\n",
       "      <td>0.257415</td>\n",
       "      <td>0.465542</td>\n",
       "    </tr>\n",
       "    <tr>\n",
       "      <th>4</th>\n",
       "      <td>20010106</td>\n",
       "      <td>0.219481</td>\n",
       "      <td>0.464935</td>\n",
       "    </tr>\n",
       "  </tbody>\n",
       "</table>\n",
       "</div>"
      ],
      "text/plain": [
       "       date  polarity  subjectivity\n",
       "0  20010102  0.193519      0.293056\n",
       "1  20010103  0.088462      0.407692\n",
       "2  20010104  0.091426      0.481895\n",
       "3  20010105  0.257415      0.465542\n",
       "4  20010106  0.219481      0.464935"
      ]
     },
     "execution_count": 69,
     "metadata": {},
     "output_type": "execute_result"
    }
   ],
   "source": [
    "newsdf.head()"
   ]
  },
  {
   "cell_type": "code",
   "execution_count": 70,
   "metadata": {},
   "outputs": [],
   "source": [
    "newsdf['date'] = pd.to_datetime(newsdf['date'], format = '%Y%m%d')"
   ]
  },
  {
   "cell_type": "code",
   "execution_count": 71,
   "metadata": {},
   "outputs": [
    {
     "data": {
      "text/html": [
       "<div>\n",
       "<style scoped>\n",
       "    .dataframe tbody tr th:only-of-type {\n",
       "        vertical-align: middle;\n",
       "    }\n",
       "\n",
       "    .dataframe tbody tr th {\n",
       "        vertical-align: top;\n",
       "    }\n",
       "\n",
       "    .dataframe thead th {\n",
       "        text-align: right;\n",
       "    }\n",
       "</style>\n",
       "<table border=\"1\" class=\"dataframe\">\n",
       "  <thead>\n",
       "    <tr style=\"text-align: right;\">\n",
       "      <th></th>\n",
       "      <th>date</th>\n",
       "      <th>polarity</th>\n",
       "      <th>subjectivity</th>\n",
       "    </tr>\n",
       "  </thead>\n",
       "  <tbody>\n",
       "    <tr>\n",
       "      <th>7257</th>\n",
       "      <td>2020-12-27</td>\n",
       "      <td>0.035346</td>\n",
       "      <td>0.396452</td>\n",
       "    </tr>\n",
       "    <tr>\n",
       "      <th>7258</th>\n",
       "      <td>2020-12-28</td>\n",
       "      <td>0.070784</td>\n",
       "      <td>0.414510</td>\n",
       "    </tr>\n",
       "    <tr>\n",
       "      <th>7259</th>\n",
       "      <td>2020-12-29</td>\n",
       "      <td>0.061175</td>\n",
       "      <td>0.424021</td>\n",
       "    </tr>\n",
       "    <tr>\n",
       "      <th>7260</th>\n",
       "      <td>2020-12-30</td>\n",
       "      <td>0.043919</td>\n",
       "      <td>0.441660</td>\n",
       "    </tr>\n",
       "    <tr>\n",
       "      <th>7261</th>\n",
       "      <td>2020-12-31</td>\n",
       "      <td>0.092529</td>\n",
       "      <td>0.406220</td>\n",
       "    </tr>\n",
       "  </tbody>\n",
       "</table>\n",
       "</div>"
      ],
      "text/plain": [
       "           date  polarity  subjectivity\n",
       "7257 2020-12-27  0.035346      0.396452\n",
       "7258 2020-12-28  0.070784      0.414510\n",
       "7259 2020-12-29  0.061175      0.424021\n",
       "7260 2020-12-30  0.043919      0.441660\n",
       "7261 2020-12-31  0.092529      0.406220"
      ]
     },
     "execution_count": 71,
     "metadata": {},
     "output_type": "execute_result"
    }
   ],
   "source": [
    "newsdf.tail()"
   ]
  },
  {
   "cell_type": "markdown",
   "metadata": {},
   "source": [
    "# Merging both dataframes"
   ]
  },
  {
   "cell_type": "code",
   "execution_count": 72,
   "metadata": {},
   "outputs": [],
   "source": [
    "df.reset_index(inplace=True)"
   ]
  },
  {
   "cell_type": "code",
   "execution_count": 73,
   "metadata": {
    "scrolled": true
   },
   "outputs": [
    {
     "data": {
      "text/html": [
       "<div>\n",
       "<style scoped>\n",
       "    .dataframe tbody tr th:only-of-type {\n",
       "        vertical-align: middle;\n",
       "    }\n",
       "\n",
       "    .dataframe tbody tr th {\n",
       "        vertical-align: top;\n",
       "    }\n",
       "\n",
       "    .dataframe thead th {\n",
       "        text-align: right;\n",
       "    }\n",
       "</style>\n",
       "<table border=\"1\" class=\"dataframe\">\n",
       "  <thead>\n",
       "    <tr style=\"text-align: right;\">\n",
       "      <th></th>\n",
       "      <th>Date</th>\n",
       "      <th>High</th>\n",
       "      <th>Low</th>\n",
       "      <th>Open</th>\n",
       "      <th>Close</th>\n",
       "      <th>Volume</th>\n",
       "      <th>Adj Close</th>\n",
       "    </tr>\n",
       "  </thead>\n",
       "  <tbody>\n",
       "    <tr>\n",
       "      <th>2818</th>\n",
       "      <td>2021-06-10</td>\n",
       "      <td>56.950001</td>\n",
       "      <td>55.349998</td>\n",
       "      <td>56.049999</td>\n",
       "      <td>56.549999</td>\n",
       "      <td>3913531.0</td>\n",
       "      <td>56.549999</td>\n",
       "    </tr>\n",
       "    <tr>\n",
       "      <th>2819</th>\n",
       "      <td>2021-06-11</td>\n",
       "      <td>57.099998</td>\n",
       "      <td>56.099998</td>\n",
       "      <td>57.000000</td>\n",
       "      <td>56.650002</td>\n",
       "      <td>2681187.0</td>\n",
       "      <td>56.650002</td>\n",
       "    </tr>\n",
       "    <tr>\n",
       "      <th>2820</th>\n",
       "      <td>2021-06-14</td>\n",
       "      <td>59.000000</td>\n",
       "      <td>54.750000</td>\n",
       "      <td>57.099998</td>\n",
       "      <td>56.650002</td>\n",
       "      <td>12189404.0</td>\n",
       "      <td>56.650002</td>\n",
       "    </tr>\n",
       "    <tr>\n",
       "      <th>2821</th>\n",
       "      <td>2021-06-15</td>\n",
       "      <td>57.700001</td>\n",
       "      <td>55.599998</td>\n",
       "      <td>57.400002</td>\n",
       "      <td>56.450001</td>\n",
       "      <td>6178131.0</td>\n",
       "      <td>56.450001</td>\n",
       "    </tr>\n",
       "    <tr>\n",
       "      <th>2822</th>\n",
       "      <td>2021-06-16</td>\n",
       "      <td>56.750000</td>\n",
       "      <td>55.099998</td>\n",
       "      <td>56.750000</td>\n",
       "      <td>55.549999</td>\n",
       "      <td>3013459.0</td>\n",
       "      <td>55.549999</td>\n",
       "    </tr>\n",
       "  </tbody>\n",
       "</table>\n",
       "</div>"
      ],
      "text/plain": [
       "           Date       High        Low       Open      Close      Volume  \\\n",
       "2818 2021-06-10  56.950001  55.349998  56.049999  56.549999   3913531.0   \n",
       "2819 2021-06-11  57.099998  56.099998  57.000000  56.650002   2681187.0   \n",
       "2820 2021-06-14  59.000000  54.750000  57.099998  56.650002  12189404.0   \n",
       "2821 2021-06-15  57.700001  55.599998  57.400002  56.450001   6178131.0   \n",
       "2822 2021-06-16  56.750000  55.099998  56.750000  55.549999   3013459.0   \n",
       "\n",
       "      Adj Close  \n",
       "2818  56.549999  \n",
       "2819  56.650002  \n",
       "2820  56.650002  \n",
       "2821  56.450001  \n",
       "2822  55.549999  "
      ]
     },
     "execution_count": 73,
     "metadata": {},
     "output_type": "execute_result"
    }
   ],
   "source": [
    "df.tail()"
   ]
  },
  {
   "cell_type": "code",
   "execution_count": 74,
   "metadata": {},
   "outputs": [],
   "source": [
    "df.rename(columns={'Date': 'date'}, inplace = True)"
   ]
  },
  {
   "cell_type": "code",
   "execution_count": 75,
   "metadata": {},
   "outputs": [],
   "source": [
    "dood = pd.merge(df, newsdf, how='left', on=['date'])"
   ]
  },
  {
   "cell_type": "code",
   "execution_count": 76,
   "metadata": {},
   "outputs": [
    {
     "data": {
      "text/html": [
       "<div>\n",
       "<style scoped>\n",
       "    .dataframe tbody tr th:only-of-type {\n",
       "        vertical-align: middle;\n",
       "    }\n",
       "\n",
       "    .dataframe tbody tr th {\n",
       "        vertical-align: top;\n",
       "    }\n",
       "\n",
       "    .dataframe thead th {\n",
       "        text-align: right;\n",
       "    }\n",
       "</style>\n",
       "<table border=\"1\" class=\"dataframe\">\n",
       "  <thead>\n",
       "    <tr style=\"text-align: right;\">\n",
       "      <th></th>\n",
       "      <th>date</th>\n",
       "      <th>High</th>\n",
       "      <th>Low</th>\n",
       "      <th>Open</th>\n",
       "      <th>Close</th>\n",
       "      <th>Volume</th>\n",
       "      <th>Adj Close</th>\n",
       "      <th>polarity</th>\n",
       "      <th>subjectivity</th>\n",
       "    </tr>\n",
       "  </thead>\n",
       "  <tbody>\n",
       "    <tr>\n",
       "      <th>0</th>\n",
       "      <td>2010-01-04</td>\n",
       "      <td>76.446922</td>\n",
       "      <td>75.299370</td>\n",
       "      <td>75.690025</td>\n",
       "      <td>75.934181</td>\n",
       "      <td>9752599.0</td>\n",
       "      <td>56.071003</td>\n",
       "      <td>0.052318</td>\n",
       "      <td>0.466683</td>\n",
       "    </tr>\n",
       "    <tr>\n",
       "      <th>1</th>\n",
       "      <td>2010-01-05</td>\n",
       "      <td>79.547775</td>\n",
       "      <td>76.178345</td>\n",
       "      <td>76.446922</td>\n",
       "      <td>79.205948</td>\n",
       "      <td>17979545.0</td>\n",
       "      <td>58.486931</td>\n",
       "      <td>0.011885</td>\n",
       "      <td>0.422413</td>\n",
       "    </tr>\n",
       "    <tr>\n",
       "      <th>2</th>\n",
       "      <td>2010-01-06</td>\n",
       "      <td>81.208069</td>\n",
       "      <td>79.596603</td>\n",
       "      <td>79.596603</td>\n",
       "      <td>80.841827</td>\n",
       "      <td>23085887.0</td>\n",
       "      <td>59.694878</td>\n",
       "      <td>0.052731</td>\n",
       "      <td>0.427943</td>\n",
       "    </tr>\n",
       "    <tr>\n",
       "      <th>3</th>\n",
       "      <td>2010-01-07</td>\n",
       "      <td>81.647560</td>\n",
       "      <td>79.865181</td>\n",
       "      <td>81.012741</td>\n",
       "      <td>80.622086</td>\n",
       "      <td>8630755.0</td>\n",
       "      <td>59.532623</td>\n",
       "      <td>0.036042</td>\n",
       "      <td>0.406683</td>\n",
       "    </tr>\n",
       "    <tr>\n",
       "      <th>4</th>\n",
       "      <td>2010-01-08</td>\n",
       "      <td>81.256905</td>\n",
       "      <td>79.645439</td>\n",
       "      <td>80.963913</td>\n",
       "      <td>79.938431</td>\n",
       "      <td>5597801.0</td>\n",
       "      <td>59.027798</td>\n",
       "      <td>0.025808</td>\n",
       "      <td>0.378096</td>\n",
       "    </tr>\n",
       "    <tr>\n",
       "      <th>...</th>\n",
       "      <td>...</td>\n",
       "      <td>...</td>\n",
       "      <td>...</td>\n",
       "      <td>...</td>\n",
       "      <td>...</td>\n",
       "      <td>...</td>\n",
       "      <td>...</td>\n",
       "      <td>...</td>\n",
       "      <td>...</td>\n",
       "    </tr>\n",
       "    <tr>\n",
       "      <th>2818</th>\n",
       "      <td>2021-06-10</td>\n",
       "      <td>56.950001</td>\n",
       "      <td>55.349998</td>\n",
       "      <td>56.049999</td>\n",
       "      <td>56.549999</td>\n",
       "      <td>3913531.0</td>\n",
       "      <td>56.549999</td>\n",
       "      <td>NaN</td>\n",
       "      <td>NaN</td>\n",
       "    </tr>\n",
       "    <tr>\n",
       "      <th>2819</th>\n",
       "      <td>2021-06-11</td>\n",
       "      <td>57.099998</td>\n",
       "      <td>56.099998</td>\n",
       "      <td>57.000000</td>\n",
       "      <td>56.650002</td>\n",
       "      <td>2681187.0</td>\n",
       "      <td>56.650002</td>\n",
       "      <td>NaN</td>\n",
       "      <td>NaN</td>\n",
       "    </tr>\n",
       "    <tr>\n",
       "      <th>2820</th>\n",
       "      <td>2021-06-14</td>\n",
       "      <td>59.000000</td>\n",
       "      <td>54.750000</td>\n",
       "      <td>57.099998</td>\n",
       "      <td>56.650002</td>\n",
       "      <td>12189404.0</td>\n",
       "      <td>56.650002</td>\n",
       "      <td>NaN</td>\n",
       "      <td>NaN</td>\n",
       "    </tr>\n",
       "    <tr>\n",
       "      <th>2821</th>\n",
       "      <td>2021-06-15</td>\n",
       "      <td>57.700001</td>\n",
       "      <td>55.599998</td>\n",
       "      <td>57.400002</td>\n",
       "      <td>56.450001</td>\n",
       "      <td>6178131.0</td>\n",
       "      <td>56.450001</td>\n",
       "      <td>NaN</td>\n",
       "      <td>NaN</td>\n",
       "    </tr>\n",
       "    <tr>\n",
       "      <th>2822</th>\n",
       "      <td>2021-06-16</td>\n",
       "      <td>56.750000</td>\n",
       "      <td>55.099998</td>\n",
       "      <td>56.750000</td>\n",
       "      <td>55.549999</td>\n",
       "      <td>3013459.0</td>\n",
       "      <td>55.549999</td>\n",
       "      <td>NaN</td>\n",
       "      <td>NaN</td>\n",
       "    </tr>\n",
       "  </tbody>\n",
       "</table>\n",
       "<p>2823 rows × 9 columns</p>\n",
       "</div>"
      ],
      "text/plain": [
       "           date       High        Low       Open      Close      Volume  \\\n",
       "0    2010-01-04  76.446922  75.299370  75.690025  75.934181   9752599.0   \n",
       "1    2010-01-05  79.547775  76.178345  76.446922  79.205948  17979545.0   \n",
       "2    2010-01-06  81.208069  79.596603  79.596603  80.841827  23085887.0   \n",
       "3    2010-01-07  81.647560  79.865181  81.012741  80.622086   8630755.0   \n",
       "4    2010-01-08  81.256905  79.645439  80.963913  79.938431   5597801.0   \n",
       "...         ...        ...        ...        ...        ...         ...   \n",
       "2818 2021-06-10  56.950001  55.349998  56.049999  56.549999   3913531.0   \n",
       "2819 2021-06-11  57.099998  56.099998  57.000000  56.650002   2681187.0   \n",
       "2820 2021-06-14  59.000000  54.750000  57.099998  56.650002  12189404.0   \n",
       "2821 2021-06-15  57.700001  55.599998  57.400002  56.450001   6178131.0   \n",
       "2822 2021-06-16  56.750000  55.099998  56.750000  55.549999   3013459.0   \n",
       "\n",
       "      Adj Close  polarity  subjectivity  \n",
       "0     56.071003  0.052318      0.466683  \n",
       "1     58.486931  0.011885      0.422413  \n",
       "2     59.694878  0.052731      0.427943  \n",
       "3     59.532623  0.036042      0.406683  \n",
       "4     59.027798  0.025808      0.378096  \n",
       "...         ...       ...           ...  \n",
       "2818  56.549999       NaN           NaN  \n",
       "2819  56.650002       NaN           NaN  \n",
       "2820  56.650002       NaN           NaN  \n",
       "2821  56.450001       NaN           NaN  \n",
       "2822  55.549999       NaN           NaN  \n",
       "\n",
       "[2823 rows x 9 columns]"
      ]
     },
     "execution_count": 76,
     "metadata": {},
     "output_type": "execute_result"
    }
   ],
   "source": [
    "dood"
   ]
  },
  {
   "cell_type": "markdown",
   "metadata": {},
   "source": [
    "# Passing date to predict"
   ]
  },
  {
   "cell_type": "code",
   "execution_count": 77,
   "metadata": {},
   "outputs": [],
   "source": [
    "dood.loc[len(dood)] = ['2021-06-17', dood['Open'].mean(), dood['High'].mean(), dood['Low'].mean(),\n",
    "                       dood['Close'].mean(), dood['Adj Close'].mean(), dood['Volume'].median(), dood['polarity'].mean(), dood['subjectivity'].mean() ]"
   ]
  },
  {
   "cell_type": "code",
   "execution_count": 78,
   "metadata": {},
   "outputs": [
    {
     "data": {
      "text/html": [
       "<div>\n",
       "<style scoped>\n",
       "    .dataframe tbody tr th:only-of-type {\n",
       "        vertical-align: middle;\n",
       "    }\n",
       "\n",
       "    .dataframe tbody tr th {\n",
       "        vertical-align: top;\n",
       "    }\n",
       "\n",
       "    .dataframe thead th {\n",
       "        text-align: right;\n",
       "    }\n",
       "</style>\n",
       "<table border=\"1\" class=\"dataframe\">\n",
       "  <thead>\n",
       "    <tr style=\"text-align: right;\">\n",
       "      <th></th>\n",
       "      <th>date</th>\n",
       "      <th>High</th>\n",
       "      <th>Low</th>\n",
       "      <th>Open</th>\n",
       "      <th>Close</th>\n",
       "      <th>Volume</th>\n",
       "      <th>Adj Close</th>\n",
       "      <th>polarity</th>\n",
       "      <th>subjectivity</th>\n",
       "    </tr>\n",
       "  </thead>\n",
       "  <tbody>\n",
       "    <tr>\n",
       "      <th>0</th>\n",
       "      <td>2010-01-04 00:00:00</td>\n",
       "      <td>76.446922</td>\n",
       "      <td>75.299370</td>\n",
       "      <td>75.690025</td>\n",
       "      <td>75.934181</td>\n",
       "      <td>9752599.0</td>\n",
       "      <td>56.071003</td>\n",
       "      <td>0.052318</td>\n",
       "      <td>0.466683</td>\n",
       "    </tr>\n",
       "    <tr>\n",
       "      <th>1</th>\n",
       "      <td>2010-01-05 00:00:00</td>\n",
       "      <td>79.547775</td>\n",
       "      <td>76.178345</td>\n",
       "      <td>76.446922</td>\n",
       "      <td>79.205948</td>\n",
       "      <td>17979545.0</td>\n",
       "      <td>58.486931</td>\n",
       "      <td>0.011885</td>\n",
       "      <td>0.422413</td>\n",
       "    </tr>\n",
       "    <tr>\n",
       "      <th>2</th>\n",
       "      <td>2010-01-06 00:00:00</td>\n",
       "      <td>81.208069</td>\n",
       "      <td>79.596603</td>\n",
       "      <td>79.596603</td>\n",
       "      <td>80.841827</td>\n",
       "      <td>23085887.0</td>\n",
       "      <td>59.694878</td>\n",
       "      <td>0.052731</td>\n",
       "      <td>0.427943</td>\n",
       "    </tr>\n",
       "    <tr>\n",
       "      <th>3</th>\n",
       "      <td>2010-01-07 00:00:00</td>\n",
       "      <td>81.647560</td>\n",
       "      <td>79.865181</td>\n",
       "      <td>81.012741</td>\n",
       "      <td>80.622086</td>\n",
       "      <td>8630755.0</td>\n",
       "      <td>59.532623</td>\n",
       "      <td>0.036042</td>\n",
       "      <td>0.406683</td>\n",
       "    </tr>\n",
       "    <tr>\n",
       "      <th>4</th>\n",
       "      <td>2010-01-08 00:00:00</td>\n",
       "      <td>81.256905</td>\n",
       "      <td>79.645439</td>\n",
       "      <td>80.963913</td>\n",
       "      <td>79.938431</td>\n",
       "      <td>5597801.0</td>\n",
       "      <td>59.027798</td>\n",
       "      <td>0.025808</td>\n",
       "      <td>0.378096</td>\n",
       "    </tr>\n",
       "  </tbody>\n",
       "</table>\n",
       "</div>"
      ],
      "text/plain": [
       "                  date       High        Low       Open      Close  \\\n",
       "0  2010-01-04 00:00:00  76.446922  75.299370  75.690025  75.934181   \n",
       "1  2010-01-05 00:00:00  79.547775  76.178345  76.446922  79.205948   \n",
       "2  2010-01-06 00:00:00  81.208069  79.596603  79.596603  80.841827   \n",
       "3  2010-01-07 00:00:00  81.647560  79.865181  81.012741  80.622086   \n",
       "4  2010-01-08 00:00:00  81.256905  79.645439  80.963913  79.938431   \n",
       "\n",
       "       Volume  Adj Close  polarity  subjectivity  \n",
       "0   9752599.0  56.071003  0.052318      0.466683  \n",
       "1  17979545.0  58.486931  0.011885      0.422413  \n",
       "2  23085887.0  59.694878  0.052731      0.427943  \n",
       "3   8630755.0  59.532623  0.036042      0.406683  \n",
       "4   5597801.0  59.027798  0.025808      0.378096  "
      ]
     },
     "execution_count": 78,
     "metadata": {},
     "output_type": "execute_result"
    }
   ],
   "source": [
    "dood.head()"
   ]
  },
  {
   "cell_type": "code",
   "execution_count": 79,
   "metadata": {},
   "outputs": [
    {
     "data": {
      "text/html": [
       "<div>\n",
       "<style scoped>\n",
       "    .dataframe tbody tr th:only-of-type {\n",
       "        vertical-align: middle;\n",
       "    }\n",
       "\n",
       "    .dataframe tbody tr th {\n",
       "        vertical-align: top;\n",
       "    }\n",
       "\n",
       "    .dataframe thead th {\n",
       "        text-align: right;\n",
       "    }\n",
       "</style>\n",
       "<table border=\"1\" class=\"dataframe\">\n",
       "  <thead>\n",
       "    <tr style=\"text-align: right;\">\n",
       "      <th></th>\n",
       "      <th>date</th>\n",
       "      <th>High</th>\n",
       "      <th>Low</th>\n",
       "      <th>Open</th>\n",
       "      <th>Close</th>\n",
       "      <th>Volume</th>\n",
       "      <th>Adj Close</th>\n",
       "      <th>polarity</th>\n",
       "      <th>subjectivity</th>\n",
       "    </tr>\n",
       "  </thead>\n",
       "  <tbody>\n",
       "    <tr>\n",
       "      <th>2819</th>\n",
       "      <td>2021-06-11 00:00:00</td>\n",
       "      <td>57.099998</td>\n",
       "      <td>56.099998</td>\n",
       "      <td>57.000000</td>\n",
       "      <td>56.650002</td>\n",
       "      <td>2.681187e+06</td>\n",
       "      <td>5.665000e+01</td>\n",
       "      <td>NaN</td>\n",
       "      <td>NaN</td>\n",
       "    </tr>\n",
       "    <tr>\n",
       "      <th>2820</th>\n",
       "      <td>2021-06-14 00:00:00</td>\n",
       "      <td>59.000000</td>\n",
       "      <td>54.750000</td>\n",
       "      <td>57.099998</td>\n",
       "      <td>56.650002</td>\n",
       "      <td>1.218940e+07</td>\n",
       "      <td>5.665000e+01</td>\n",
       "      <td>NaN</td>\n",
       "      <td>NaN</td>\n",
       "    </tr>\n",
       "    <tr>\n",
       "      <th>2821</th>\n",
       "      <td>2021-06-15 00:00:00</td>\n",
       "      <td>57.700001</td>\n",
       "      <td>55.599998</td>\n",
       "      <td>57.400002</td>\n",
       "      <td>56.450001</td>\n",
       "      <td>6.178131e+06</td>\n",
       "      <td>5.645000e+01</td>\n",
       "      <td>NaN</td>\n",
       "      <td>NaN</td>\n",
       "    </tr>\n",
       "    <tr>\n",
       "      <th>2822</th>\n",
       "      <td>2021-06-16 00:00:00</td>\n",
       "      <td>56.750000</td>\n",
       "      <td>55.099998</td>\n",
       "      <td>56.750000</td>\n",
       "      <td>55.549999</td>\n",
       "      <td>3.013459e+06</td>\n",
       "      <td>5.555000e+01</td>\n",
       "      <td>NaN</td>\n",
       "      <td>NaN</td>\n",
       "    </tr>\n",
       "    <tr>\n",
       "      <th>2823</th>\n",
       "      <td>2021-06-17</td>\n",
       "      <td>57.859852</td>\n",
       "      <td>58.824608</td>\n",
       "      <td>56.763027</td>\n",
       "      <td>57.732907</td>\n",
       "      <td>4.910660e+01</td>\n",
       "      <td>8.182864e+06</td>\n",
       "      <td>0.064533</td>\n",
       "      <td>0.400701</td>\n",
       "    </tr>\n",
       "  </tbody>\n",
       "</table>\n",
       "</div>"
      ],
      "text/plain": [
       "                     date       High        Low       Open      Close  \\\n",
       "2819  2021-06-11 00:00:00  57.099998  56.099998  57.000000  56.650002   \n",
       "2820  2021-06-14 00:00:00  59.000000  54.750000  57.099998  56.650002   \n",
       "2821  2021-06-15 00:00:00  57.700001  55.599998  57.400002  56.450001   \n",
       "2822  2021-06-16 00:00:00  56.750000  55.099998  56.750000  55.549999   \n",
       "2823           2021-06-17  57.859852  58.824608  56.763027  57.732907   \n",
       "\n",
       "            Volume     Adj Close  polarity  subjectivity  \n",
       "2819  2.681187e+06  5.665000e+01       NaN           NaN  \n",
       "2820  1.218940e+07  5.665000e+01       NaN           NaN  \n",
       "2821  6.178131e+06  5.645000e+01       NaN           NaN  \n",
       "2822  3.013459e+06  5.555000e+01       NaN           NaN  \n",
       "2823  4.910660e+01  8.182864e+06  0.064533      0.400701  "
      ]
     },
     "execution_count": 79,
     "metadata": {},
     "output_type": "execute_result"
    }
   ],
   "source": [
    "dood.tail()"
   ]
  },
  {
   "cell_type": "code",
   "execution_count": 80,
   "metadata": {},
   "outputs": [
    {
     "data": {
      "text/plain": [
       "224"
      ]
     },
     "execution_count": 80,
     "metadata": {},
     "output_type": "execute_result"
    }
   ],
   "source": [
    "dood.isnull().sum().sum()"
   ]
  },
  {
   "cell_type": "code",
   "execution_count": 81,
   "metadata": {},
   "outputs": [],
   "source": [
    "dood.fillna(method = 'bfill', inplace = True)"
   ]
  },
  {
   "cell_type": "code",
   "execution_count": 82,
   "metadata": {},
   "outputs": [],
   "source": [
    "dood.fillna(method = 'ffill', inplace = True)"
   ]
  },
  {
   "cell_type": "code",
   "execution_count": 83,
   "metadata": {},
   "outputs": [],
   "source": [
    "dood['date'] = pd.to_datetime(dood['date'], errors='coerce')"
   ]
  },
  {
   "cell_type": "code",
   "execution_count": 84,
   "metadata": {},
   "outputs": [],
   "source": [
    "import datetime as dt"
   ]
  },
  {
   "cell_type": "code",
   "execution_count": 85,
   "metadata": {},
   "outputs": [],
   "source": [
    "def boolean_shock(percent, df, col):\n",
    "  data = df.filter(['date', col], axis=1) #df.copy()\n",
    "  data.set_index('date', inplace=True)\n",
    "  data['percentchg'] = (data[col].pct_change()) * 100  #percentage change compare to previous volume using pct_change() function\n",
    "  data['shock'] = data['percentchg'].apply(lambda x: 1 if x >= percent else 0)\n",
    "  data.drop(col, axis = 1, inplace = True)\n",
    "  return data.dropna()"
   ]
  },
  {
   "cell_type": "code",
   "execution_count": 86,
   "metadata": {},
   "outputs": [],
   "source": [
    "def priceboolean_shock(percent, df):\n",
    "  df['date'] = pd.to_datetime(df['date'])\n",
    "  data = df.filter(['date', 'High', 'Low','Close'], axis=1) #df.copy()\n",
    "  data.set_index('date', inplace=True)\n",
    "  data['priceavg'] = (data['High'] + data['Low'] + data['Close']) / 3\n",
    "  data['shock'] = (data['priceavg'].pct_change()) * 100\n",
    "  data['shock'] = data['shock'].apply(lambda x: 1 if x >= percent else 0)\n",
    "  data.drop(['High', 'Low', 'Close'], axis = 1, inplace = True)\n",
    "  return data"
   ]
  },
  {
   "cell_type": "code",
   "execution_count": 87,
   "metadata": {},
   "outputs": [],
   "source": [
    "def reverseboolean_shock(percent, df, col):\n",
    "  data = df.filter(['date', col], axis=1) #df.copy()\n",
    "  data.set_index('date', inplace=True)\n",
    "  data = data.reindex(index=data.index[::-1])\n",
    "  data['percentchg'] = (data[col].pct_change()) * 100\n",
    "  data['shock'] = data['percentchg'].apply(lambda x: 1 if x > percent else 0)\n",
    "  data.drop(col, axis = 1, inplace = True)\n",
    "  data = data.reindex(index=data.index[::-1])\n",
    "  return data.dropna()"
   ]
  },
  {
   "cell_type": "code",
   "execution_count": 88,
   "metadata": {},
   "outputs": [],
   "source": [
    "def pricereverseboolean_shock(percent, df):\n",
    "  data = df.filter(['date', 'High', 'Low','Close'], axis=1) #df.copy()\n",
    "  data.set_index('date', inplace=True)\n",
    "  data = data.reindex(index=data.index[::-1])\n",
    "  data['reversepriceavg'] = (data['High'] + data['Low'] + data['Close']) / 3\n",
    "  data['shock'] = (data['reversepriceavg'].pct_change()) * 100\n",
    "  data['shock'] = data['shock'].apply(lambda x: 1 if x >= percent else 0)\n",
    "  data.drop(['High', 'Low', 'Close'], axis = 1, inplace = True)\n",
    "  data = data.reindex(index=data.index[::-1])\n",
    "  return data.dropna()"
   ]
  },
  {
   "cell_type": "markdown",
   "metadata": {},
   "source": [
    "# Making dataframe ready for the model"
   ]
  },
  {
   "cell_type": "code",
   "execution_count": 89,
   "metadata": {},
   "outputs": [
    {
     "name": "stderr",
     "output_type": "stream",
     "text": [
      "<ipython-input-89-b456045663bf>:4: FutureWarning: Series.dt.weekofyear and Series.dt.week have been deprecated.  Please use Series.dt.isocalendar().week instead.\n",
      "  dood[\"week\"] = dood['date'].dt.week\n"
     ]
    }
   ],
   "source": [
    "dood[\"month\"] = dood['date'].dt.month\n",
    "dood[\"day\"] = dood['date'].dt.day\n",
    "dood[\"dayofweek\"] = dood['date'].dt.dayofweek\n",
    "dood[\"week\"] = dood['date'].dt.week\n",
    "dood['movingavg4weeks'] = round(dood['Close'].rolling(window=(4*5), min_periods = 1).mean().shift(),2)\n",
    "dood['movingavg16weeks'] = round(dood['Close'].rolling(window=(16*5), min_periods = 1).mean().shift(),2) #add 12 weeks to 4 weeks \n",
    "dood['movingavg28weeks'] = round(dood['Close'].rolling(window=(28*5), min_periods = 1).mean().shift(),2) #add 12 weeks to 16 weeks\n",
    "dood['movingavg40weeks'] = round(dood['Close'].rolling(window=(40*5), min_periods = 1).mean().shift(),2) #add 12 weeks to 28 weeks\n",
    "dood['movingavg52weeks'] = round(dood['Close'].rolling(window=(52*5), min_periods = 1).mean().shift(),2)  #add 12 weeks to 40 weeks\n",
    "dood['window10days'] = round(dood['Close'].rolling(window = 10, min_periods = 1).mean().shift(),2)  \n",
    "dood['window50days'] = round(dood['Close'].rolling(window = 50, min_periods = 1).mean().shift(),2)\n",
    "dood['volumeshock'] = round(boolean_shock(10, dood,'Volume').reset_index()['shock'], 2)\n",
    "dood['closeshock2'] = round(reverseboolean_shock(2, dood, 'Close').reset_index()['shock'], 2)\n",
    "dood['closeshock5'] = round(reverseboolean_shock(5, dood, 'Close').reset_index()['shock'],2)\n",
    "dood['closeshock10'] = round(reverseboolean_shock(10, dood, 'Close').reset_index()['shock'], 2)\n",
    "dood['priceshock'] = round(priceboolean_shock(10, dood).reset_index()['shock'], 2)\n",
    "dood['reversebooleanshock2'] = round(reverseboolean_shock(2, dood, 'Close').reset_index()['shock'], 2)\n",
    "dood['reversebooleanshock5'] = round(reverseboolean_shock(5, dood, 'Close').reset_index()['shock'], 2)\n",
    "dood['pricereverseshock2'] = round(pricereverseboolean_shock(2, dood).reset_index()['shock'], 2)\n",
    "dood['polarity'] = round(dood['polarity'] , 2)\n",
    "dood['subjectivity'] = round(dood['subjectivity'] , 2)\n",
    "dood['price'] = round((dood['High'] + dood['Low'] + dood['Close']) / 3 , 2)\n",
    "dood['Close'] = round(dood['Close'] , 2)"
   ]
  },
  {
   "cell_type": "code",
   "execution_count": 90,
   "metadata": {},
   "outputs": [
    {
     "data": {
      "text/html": [
       "<div>\n",
       "<style scoped>\n",
       "    .dataframe tbody tr th:only-of-type {\n",
       "        vertical-align: middle;\n",
       "    }\n",
       "\n",
       "    .dataframe tbody tr th {\n",
       "        vertical-align: top;\n",
       "    }\n",
       "\n",
       "    .dataframe thead th {\n",
       "        text-align: right;\n",
       "    }\n",
       "</style>\n",
       "<table border=\"1\" class=\"dataframe\">\n",
       "  <thead>\n",
       "    <tr style=\"text-align: right;\">\n",
       "      <th></th>\n",
       "      <th>date</th>\n",
       "      <th>High</th>\n",
       "      <th>Low</th>\n",
       "      <th>Open</th>\n",
       "      <th>Close</th>\n",
       "      <th>Volume</th>\n",
       "      <th>Adj Close</th>\n",
       "      <th>polarity</th>\n",
       "      <th>subjectivity</th>\n",
       "      <th>month</th>\n",
       "      <th>...</th>\n",
       "      <th>window50days</th>\n",
       "      <th>volumeshock</th>\n",
       "      <th>closeshock2</th>\n",
       "      <th>closeshock5</th>\n",
       "      <th>closeshock10</th>\n",
       "      <th>priceshock</th>\n",
       "      <th>reversebooleanshock2</th>\n",
       "      <th>reversebooleanshock5</th>\n",
       "      <th>pricereverseshock2</th>\n",
       "      <th>price</th>\n",
       "    </tr>\n",
       "  </thead>\n",
       "  <tbody>\n",
       "    <tr>\n",
       "      <th>0</th>\n",
       "      <td>2010-01-04</td>\n",
       "      <td>76.446922</td>\n",
       "      <td>75.299370</td>\n",
       "      <td>75.690025</td>\n",
       "      <td>75.93</td>\n",
       "      <td>9.752599e+06</td>\n",
       "      <td>5.607100e+01</td>\n",
       "      <td>0.05</td>\n",
       "      <td>0.47</td>\n",
       "      <td>1</td>\n",
       "      <td>...</td>\n",
       "      <td>NaN</td>\n",
       "      <td>1.0</td>\n",
       "      <td>0.0</td>\n",
       "      <td>0.0</td>\n",
       "      <td>0.0</td>\n",
       "      <td>0</td>\n",
       "      <td>0.0</td>\n",
       "      <td>0.0</td>\n",
       "      <td>0</td>\n",
       "      <td>75.89</td>\n",
       "    </tr>\n",
       "    <tr>\n",
       "      <th>1</th>\n",
       "      <td>2010-01-05</td>\n",
       "      <td>79.547775</td>\n",
       "      <td>76.178345</td>\n",
       "      <td>76.446922</td>\n",
       "      <td>79.21</td>\n",
       "      <td>1.797954e+07</td>\n",
       "      <td>5.848693e+01</td>\n",
       "      <td>0.01</td>\n",
       "      <td>0.42</td>\n",
       "      <td>1</td>\n",
       "      <td>...</td>\n",
       "      <td>75.93</td>\n",
       "      <td>1.0</td>\n",
       "      <td>0.0</td>\n",
       "      <td>0.0</td>\n",
       "      <td>0.0</td>\n",
       "      <td>0</td>\n",
       "      <td>0.0</td>\n",
       "      <td>0.0</td>\n",
       "      <td>0</td>\n",
       "      <td>78.31</td>\n",
       "    </tr>\n",
       "    <tr>\n",
       "      <th>2</th>\n",
       "      <td>2010-01-06</td>\n",
       "      <td>81.208069</td>\n",
       "      <td>79.596603</td>\n",
       "      <td>79.596603</td>\n",
       "      <td>80.84</td>\n",
       "      <td>2.308589e+07</td>\n",
       "      <td>5.969488e+01</td>\n",
       "      <td>0.05</td>\n",
       "      <td>0.43</td>\n",
       "      <td>1</td>\n",
       "      <td>...</td>\n",
       "      <td>77.57</td>\n",
       "      <td>0.0</td>\n",
       "      <td>0.0</td>\n",
       "      <td>0.0</td>\n",
       "      <td>0.0</td>\n",
       "      <td>0</td>\n",
       "      <td>0.0</td>\n",
       "      <td>0.0</td>\n",
       "      <td>0</td>\n",
       "      <td>80.55</td>\n",
       "    </tr>\n",
       "    <tr>\n",
       "      <th>3</th>\n",
       "      <td>2010-01-07</td>\n",
       "      <td>81.647560</td>\n",
       "      <td>79.865181</td>\n",
       "      <td>81.012741</td>\n",
       "      <td>80.62</td>\n",
       "      <td>8.630755e+06</td>\n",
       "      <td>5.953262e+01</td>\n",
       "      <td>0.04</td>\n",
       "      <td>0.41</td>\n",
       "      <td>1</td>\n",
       "      <td>...</td>\n",
       "      <td>78.66</td>\n",
       "      <td>0.0</td>\n",
       "      <td>0.0</td>\n",
       "      <td>0.0</td>\n",
       "      <td>0.0</td>\n",
       "      <td>0</td>\n",
       "      <td>0.0</td>\n",
       "      <td>0.0</td>\n",
       "      <td>0</td>\n",
       "      <td>80.71</td>\n",
       "    </tr>\n",
       "    <tr>\n",
       "      <th>4</th>\n",
       "      <td>2010-01-08</td>\n",
       "      <td>81.256905</td>\n",
       "      <td>79.645439</td>\n",
       "      <td>80.963913</td>\n",
       "      <td>79.94</td>\n",
       "      <td>5.597801e+06</td>\n",
       "      <td>5.902780e+01</td>\n",
       "      <td>0.03</td>\n",
       "      <td>0.38</td>\n",
       "      <td>1</td>\n",
       "      <td>...</td>\n",
       "      <td>79.15</td>\n",
       "      <td>0.0</td>\n",
       "      <td>0.0</td>\n",
       "      <td>0.0</td>\n",
       "      <td>0.0</td>\n",
       "      <td>0</td>\n",
       "      <td>0.0</td>\n",
       "      <td>0.0</td>\n",
       "      <td>0</td>\n",
       "      <td>80.28</td>\n",
       "    </tr>\n",
       "    <tr>\n",
       "      <th>...</th>\n",
       "      <td>...</td>\n",
       "      <td>...</td>\n",
       "      <td>...</td>\n",
       "      <td>...</td>\n",
       "      <td>...</td>\n",
       "      <td>...</td>\n",
       "      <td>...</td>\n",
       "      <td>...</td>\n",
       "      <td>...</td>\n",
       "      <td>...</td>\n",
       "      <td>...</td>\n",
       "      <td>...</td>\n",
       "      <td>...</td>\n",
       "      <td>...</td>\n",
       "      <td>...</td>\n",
       "      <td>...</td>\n",
       "      <td>...</td>\n",
       "      <td>...</td>\n",
       "      <td>...</td>\n",
       "      <td>...</td>\n",
       "      <td>...</td>\n",
       "    </tr>\n",
       "    <tr>\n",
       "      <th>2819</th>\n",
       "      <td>2021-06-11</td>\n",
       "      <td>57.099998</td>\n",
       "      <td>56.099998</td>\n",
       "      <td>57.000000</td>\n",
       "      <td>56.65</td>\n",
       "      <td>2.681187e+06</td>\n",
       "      <td>5.665000e+01</td>\n",
       "      <td>0.06</td>\n",
       "      <td>0.40</td>\n",
       "      <td>6</td>\n",
       "      <td>...</td>\n",
       "      <td>52.27</td>\n",
       "      <td>1.0</td>\n",
       "      <td>0.0</td>\n",
       "      <td>0.0</td>\n",
       "      <td>0.0</td>\n",
       "      <td>0</td>\n",
       "      <td>0.0</td>\n",
       "      <td>0.0</td>\n",
       "      <td>0</td>\n",
       "      <td>56.62</td>\n",
       "    </tr>\n",
       "    <tr>\n",
       "      <th>2820</th>\n",
       "      <td>2021-06-14</td>\n",
       "      <td>59.000000</td>\n",
       "      <td>54.750000</td>\n",
       "      <td>57.099998</td>\n",
       "      <td>56.65</td>\n",
       "      <td>1.218940e+07</td>\n",
       "      <td>5.665000e+01</td>\n",
       "      <td>0.06</td>\n",
       "      <td>0.40</td>\n",
       "      <td>6</td>\n",
       "      <td>...</td>\n",
       "      <td>52.45</td>\n",
       "      <td>0.0</td>\n",
       "      <td>0.0</td>\n",
       "      <td>0.0</td>\n",
       "      <td>0.0</td>\n",
       "      <td>0</td>\n",
       "      <td>0.0</td>\n",
       "      <td>0.0</td>\n",
       "      <td>0</td>\n",
       "      <td>56.80</td>\n",
       "    </tr>\n",
       "    <tr>\n",
       "      <th>2821</th>\n",
       "      <td>2021-06-15</td>\n",
       "      <td>57.700001</td>\n",
       "      <td>55.599998</td>\n",
       "      <td>57.400002</td>\n",
       "      <td>56.45</td>\n",
       "      <td>6.178131e+06</td>\n",
       "      <td>5.645000e+01</td>\n",
       "      <td>0.06</td>\n",
       "      <td>0.40</td>\n",
       "      <td>6</td>\n",
       "      <td>...</td>\n",
       "      <td>52.64</td>\n",
       "      <td>0.0</td>\n",
       "      <td>0.0</td>\n",
       "      <td>0.0</td>\n",
       "      <td>0.0</td>\n",
       "      <td>0</td>\n",
       "      <td>0.0</td>\n",
       "      <td>0.0</td>\n",
       "      <td>0</td>\n",
       "      <td>56.58</td>\n",
       "    </tr>\n",
       "    <tr>\n",
       "      <th>2822</th>\n",
       "      <td>2021-06-16</td>\n",
       "      <td>56.750000</td>\n",
       "      <td>55.099998</td>\n",
       "      <td>56.750000</td>\n",
       "      <td>55.55</td>\n",
       "      <td>3.013459e+06</td>\n",
       "      <td>5.555000e+01</td>\n",
       "      <td>0.06</td>\n",
       "      <td>0.40</td>\n",
       "      <td>6</td>\n",
       "      <td>...</td>\n",
       "      <td>52.82</td>\n",
       "      <td>0.0</td>\n",
       "      <td>0.0</td>\n",
       "      <td>0.0</td>\n",
       "      <td>0.0</td>\n",
       "      <td>0</td>\n",
       "      <td>0.0</td>\n",
       "      <td>0.0</td>\n",
       "      <td>0</td>\n",
       "      <td>55.80</td>\n",
       "    </tr>\n",
       "    <tr>\n",
       "      <th>2823</th>\n",
       "      <td>2021-06-17</td>\n",
       "      <td>57.859852</td>\n",
       "      <td>58.824608</td>\n",
       "      <td>56.763027</td>\n",
       "      <td>57.73</td>\n",
       "      <td>4.910660e+01</td>\n",
       "      <td>8.182864e+06</td>\n",
       "      <td>0.06</td>\n",
       "      <td>0.40</td>\n",
       "      <td>6</td>\n",
       "      <td>...</td>\n",
       "      <td>52.98</td>\n",
       "      <td>NaN</td>\n",
       "      <td>NaN</td>\n",
       "      <td>NaN</td>\n",
       "      <td>NaN</td>\n",
       "      <td>0</td>\n",
       "      <td>NaN</td>\n",
       "      <td>NaN</td>\n",
       "      <td>0</td>\n",
       "      <td>58.14</td>\n",
       "    </tr>\n",
       "  </tbody>\n",
       "</table>\n",
       "<p>2824 rows × 29 columns</p>\n",
       "</div>"
      ],
      "text/plain": [
       "           date       High        Low       Open  Close        Volume  \\\n",
       "0    2010-01-04  76.446922  75.299370  75.690025  75.93  9.752599e+06   \n",
       "1    2010-01-05  79.547775  76.178345  76.446922  79.21  1.797954e+07   \n",
       "2    2010-01-06  81.208069  79.596603  79.596603  80.84  2.308589e+07   \n",
       "3    2010-01-07  81.647560  79.865181  81.012741  80.62  8.630755e+06   \n",
       "4    2010-01-08  81.256905  79.645439  80.963913  79.94  5.597801e+06   \n",
       "...         ...        ...        ...        ...    ...           ...   \n",
       "2819 2021-06-11  57.099998  56.099998  57.000000  56.65  2.681187e+06   \n",
       "2820 2021-06-14  59.000000  54.750000  57.099998  56.65  1.218940e+07   \n",
       "2821 2021-06-15  57.700001  55.599998  57.400002  56.45  6.178131e+06   \n",
       "2822 2021-06-16  56.750000  55.099998  56.750000  55.55  3.013459e+06   \n",
       "2823 2021-06-17  57.859852  58.824608  56.763027  57.73  4.910660e+01   \n",
       "\n",
       "         Adj Close  polarity  subjectivity  month  ...  window50days  \\\n",
       "0     5.607100e+01      0.05          0.47      1  ...           NaN   \n",
       "1     5.848693e+01      0.01          0.42      1  ...         75.93   \n",
       "2     5.969488e+01      0.05          0.43      1  ...         77.57   \n",
       "3     5.953262e+01      0.04          0.41      1  ...         78.66   \n",
       "4     5.902780e+01      0.03          0.38      1  ...         79.15   \n",
       "...            ...       ...           ...    ...  ...           ...   \n",
       "2819  5.665000e+01      0.06          0.40      6  ...         52.27   \n",
       "2820  5.665000e+01      0.06          0.40      6  ...         52.45   \n",
       "2821  5.645000e+01      0.06          0.40      6  ...         52.64   \n",
       "2822  5.555000e+01      0.06          0.40      6  ...         52.82   \n",
       "2823  8.182864e+06      0.06          0.40      6  ...         52.98   \n",
       "\n",
       "      volumeshock  closeshock2  closeshock5  closeshock10  priceshock  \\\n",
       "0             1.0          0.0          0.0           0.0           0   \n",
       "1             1.0          0.0          0.0           0.0           0   \n",
       "2             0.0          0.0          0.0           0.0           0   \n",
       "3             0.0          0.0          0.0           0.0           0   \n",
       "4             0.0          0.0          0.0           0.0           0   \n",
       "...           ...          ...          ...           ...         ...   \n",
       "2819          1.0          0.0          0.0           0.0           0   \n",
       "2820          0.0          0.0          0.0           0.0           0   \n",
       "2821          0.0          0.0          0.0           0.0           0   \n",
       "2822          0.0          0.0          0.0           0.0           0   \n",
       "2823          NaN          NaN          NaN           NaN           0   \n",
       "\n",
       "      reversebooleanshock2  reversebooleanshock5  pricereverseshock2  price  \n",
       "0                      0.0                   0.0                   0  75.89  \n",
       "1                      0.0                   0.0                   0  78.31  \n",
       "2                      0.0                   0.0                   0  80.55  \n",
       "3                      0.0                   0.0                   0  80.71  \n",
       "4                      0.0                   0.0                   0  80.28  \n",
       "...                    ...                   ...                 ...    ...  \n",
       "2819                   0.0                   0.0                   0  56.62  \n",
       "2820                   0.0                   0.0                   0  56.80  \n",
       "2821                   0.0                   0.0                   0  56.58  \n",
       "2822                   0.0                   0.0                   0  55.80  \n",
       "2823                   NaN                   NaN                   0  58.14  \n",
       "\n",
       "[2824 rows x 29 columns]"
      ]
     },
     "execution_count": 90,
     "metadata": {},
     "output_type": "execute_result"
    }
   ],
   "source": [
    "dood"
   ]
  },
  {
   "cell_type": "code",
   "execution_count": 91,
   "metadata": {},
   "outputs": [],
   "source": [
    "dood.fillna(method = 'bfill', inplace = True)"
   ]
  },
  {
   "cell_type": "code",
   "execution_count": 92,
   "metadata": {},
   "outputs": [],
   "source": [
    "dood.fillna(method = 'ffill', inplace = True)"
   ]
  },
  {
   "cell_type": "code",
   "execution_count": 93,
   "metadata": {},
   "outputs": [
    {
     "data": {
      "text/plain": [
       "0"
      ]
     },
     "execution_count": 93,
     "metadata": {},
     "output_type": "execute_result"
    }
   ],
   "source": [
    "dood.isnull().sum().sum()"
   ]
  },
  {
   "cell_type": "code",
   "execution_count": 94,
   "metadata": {},
   "outputs": [],
   "source": [
    "dood = dood.filter(['month', 'day', 'dayofweek', 'week',\n",
    "       'movingavg4weeks', 'movingavg16weeks', 'movingavg28weeks',\n",
    "       'movingavg40weeks', 'movingavg52weeks', 'window10days', 'window50days',\n",
    "       'volumeshock', 'closeshock2', 'closeshock5', 'closeshock10',\n",
    "       'priceshock', 'reversebooleanshock2', 'reversebooleanshock5',\n",
    "       'pricereverseshock2', 'polarity', 'subjectivity', 'price', 'Close'], axis=1)"
   ]
  },
  {
   "cell_type": "code",
   "execution_count": 95,
   "metadata": {},
   "outputs": [],
   "source": [
    "dood = dood.iloc[:,:2823].reset_index()"
   ]
  },
  {
   "cell_type": "code",
   "execution_count": 96,
   "metadata": {},
   "outputs": [
    {
     "data": {
      "text/html": [
       "<div>\n",
       "<style scoped>\n",
       "    .dataframe tbody tr th:only-of-type {\n",
       "        vertical-align: middle;\n",
       "    }\n",
       "\n",
       "    .dataframe tbody tr th {\n",
       "        vertical-align: top;\n",
       "    }\n",
       "\n",
       "    .dataframe thead th {\n",
       "        text-align: right;\n",
       "    }\n",
       "</style>\n",
       "<table border=\"1\" class=\"dataframe\">\n",
       "  <thead>\n",
       "    <tr style=\"text-align: right;\">\n",
       "      <th></th>\n",
       "      <th>index</th>\n",
       "      <th>month</th>\n",
       "      <th>day</th>\n",
       "      <th>dayofweek</th>\n",
       "      <th>week</th>\n",
       "      <th>movingavg4weeks</th>\n",
       "      <th>movingavg16weeks</th>\n",
       "      <th>movingavg28weeks</th>\n",
       "      <th>movingavg40weeks</th>\n",
       "      <th>movingavg52weeks</th>\n",
       "      <th>...</th>\n",
       "      <th>closeshock5</th>\n",
       "      <th>closeshock10</th>\n",
       "      <th>priceshock</th>\n",
       "      <th>reversebooleanshock2</th>\n",
       "      <th>reversebooleanshock5</th>\n",
       "      <th>pricereverseshock2</th>\n",
       "      <th>polarity</th>\n",
       "      <th>subjectivity</th>\n",
       "      <th>price</th>\n",
       "      <th>Close</th>\n",
       "    </tr>\n",
       "  </thead>\n",
       "  <tbody>\n",
       "    <tr>\n",
       "      <th>0</th>\n",
       "      <td>0</td>\n",
       "      <td>1</td>\n",
       "      <td>4</td>\n",
       "      <td>0</td>\n",
       "      <td>1</td>\n",
       "      <td>75.93</td>\n",
       "      <td>75.93</td>\n",
       "      <td>75.93</td>\n",
       "      <td>75.93</td>\n",
       "      <td>75.93</td>\n",
       "      <td>...</td>\n",
       "      <td>0.0</td>\n",
       "      <td>0.0</td>\n",
       "      <td>0</td>\n",
       "      <td>0.0</td>\n",
       "      <td>0.0</td>\n",
       "      <td>0</td>\n",
       "      <td>0.05</td>\n",
       "      <td>0.47</td>\n",
       "      <td>75.89</td>\n",
       "      <td>75.93</td>\n",
       "    </tr>\n",
       "    <tr>\n",
       "      <th>1</th>\n",
       "      <td>1</td>\n",
       "      <td>1</td>\n",
       "      <td>5</td>\n",
       "      <td>1</td>\n",
       "      <td>1</td>\n",
       "      <td>75.93</td>\n",
       "      <td>75.93</td>\n",
       "      <td>75.93</td>\n",
       "      <td>75.93</td>\n",
       "      <td>75.93</td>\n",
       "      <td>...</td>\n",
       "      <td>0.0</td>\n",
       "      <td>0.0</td>\n",
       "      <td>0</td>\n",
       "      <td>0.0</td>\n",
       "      <td>0.0</td>\n",
       "      <td>0</td>\n",
       "      <td>0.01</td>\n",
       "      <td>0.42</td>\n",
       "      <td>78.31</td>\n",
       "      <td>79.21</td>\n",
       "    </tr>\n",
       "    <tr>\n",
       "      <th>2</th>\n",
       "      <td>2</td>\n",
       "      <td>1</td>\n",
       "      <td>6</td>\n",
       "      <td>2</td>\n",
       "      <td>1</td>\n",
       "      <td>77.57</td>\n",
       "      <td>77.57</td>\n",
       "      <td>77.57</td>\n",
       "      <td>77.57</td>\n",
       "      <td>77.57</td>\n",
       "      <td>...</td>\n",
       "      <td>0.0</td>\n",
       "      <td>0.0</td>\n",
       "      <td>0</td>\n",
       "      <td>0.0</td>\n",
       "      <td>0.0</td>\n",
       "      <td>0</td>\n",
       "      <td>0.05</td>\n",
       "      <td>0.43</td>\n",
       "      <td>80.55</td>\n",
       "      <td>80.84</td>\n",
       "    </tr>\n",
       "    <tr>\n",
       "      <th>3</th>\n",
       "      <td>3</td>\n",
       "      <td>1</td>\n",
       "      <td>7</td>\n",
       "      <td>3</td>\n",
       "      <td>1</td>\n",
       "      <td>78.66</td>\n",
       "      <td>78.66</td>\n",
       "      <td>78.66</td>\n",
       "      <td>78.66</td>\n",
       "      <td>78.66</td>\n",
       "      <td>...</td>\n",
       "      <td>0.0</td>\n",
       "      <td>0.0</td>\n",
       "      <td>0</td>\n",
       "      <td>0.0</td>\n",
       "      <td>0.0</td>\n",
       "      <td>0</td>\n",
       "      <td>0.04</td>\n",
       "      <td>0.41</td>\n",
       "      <td>80.71</td>\n",
       "      <td>80.62</td>\n",
       "    </tr>\n",
       "    <tr>\n",
       "      <th>4</th>\n",
       "      <td>4</td>\n",
       "      <td>1</td>\n",
       "      <td>8</td>\n",
       "      <td>4</td>\n",
       "      <td>1</td>\n",
       "      <td>79.15</td>\n",
       "      <td>79.15</td>\n",
       "      <td>79.15</td>\n",
       "      <td>79.15</td>\n",
       "      <td>79.15</td>\n",
       "      <td>...</td>\n",
       "      <td>0.0</td>\n",
       "      <td>0.0</td>\n",
       "      <td>0</td>\n",
       "      <td>0.0</td>\n",
       "      <td>0.0</td>\n",
       "      <td>0</td>\n",
       "      <td>0.03</td>\n",
       "      <td>0.38</td>\n",
       "      <td>80.28</td>\n",
       "      <td>79.94</td>\n",
       "    </tr>\n",
       "    <tr>\n",
       "      <th>...</th>\n",
       "      <td>...</td>\n",
       "      <td>...</td>\n",
       "      <td>...</td>\n",
       "      <td>...</td>\n",
       "      <td>...</td>\n",
       "      <td>...</td>\n",
       "      <td>...</td>\n",
       "      <td>...</td>\n",
       "      <td>...</td>\n",
       "      <td>...</td>\n",
       "      <td>...</td>\n",
       "      <td>...</td>\n",
       "      <td>...</td>\n",
       "      <td>...</td>\n",
       "      <td>...</td>\n",
       "      <td>...</td>\n",
       "      <td>...</td>\n",
       "      <td>...</td>\n",
       "      <td>...</td>\n",
       "      <td>...</td>\n",
       "      <td>...</td>\n",
       "    </tr>\n",
       "    <tr>\n",
       "      <th>2819</th>\n",
       "      <td>2819</td>\n",
       "      <td>6</td>\n",
       "      <td>11</td>\n",
       "      <td>4</td>\n",
       "      <td>23</td>\n",
       "      <td>56.15</td>\n",
       "      <td>52.43</td>\n",
       "      <td>47.28</td>\n",
       "      <td>42.11</td>\n",
       "      <td>36.92</td>\n",
       "      <td>...</td>\n",
       "      <td>0.0</td>\n",
       "      <td>0.0</td>\n",
       "      <td>0</td>\n",
       "      <td>0.0</td>\n",
       "      <td>0.0</td>\n",
       "      <td>0</td>\n",
       "      <td>0.06</td>\n",
       "      <td>0.40</td>\n",
       "      <td>56.62</td>\n",
       "      <td>56.65</td>\n",
       "    </tr>\n",
       "    <tr>\n",
       "      <th>2820</th>\n",
       "      <td>2820</td>\n",
       "      <td>6</td>\n",
       "      <td>14</td>\n",
       "      <td>0</td>\n",
       "      <td>24</td>\n",
       "      <td>56.27</td>\n",
       "      <td>52.51</td>\n",
       "      <td>47.46</td>\n",
       "      <td>42.25</td>\n",
       "      <td>37.09</td>\n",
       "      <td>...</td>\n",
       "      <td>0.0</td>\n",
       "      <td>0.0</td>\n",
       "      <td>0</td>\n",
       "      <td>0.0</td>\n",
       "      <td>0.0</td>\n",
       "      <td>0</td>\n",
       "      <td>0.06</td>\n",
       "      <td>0.40</td>\n",
       "      <td>56.80</td>\n",
       "      <td>56.65</td>\n",
       "    </tr>\n",
       "    <tr>\n",
       "      <th>2821</th>\n",
       "      <td>2821</td>\n",
       "      <td>6</td>\n",
       "      <td>15</td>\n",
       "      <td>1</td>\n",
       "      <td>24</td>\n",
       "      <td>56.40</td>\n",
       "      <td>52.58</td>\n",
       "      <td>47.62</td>\n",
       "      <td>42.39</td>\n",
       "      <td>37.25</td>\n",
       "      <td>...</td>\n",
       "      <td>0.0</td>\n",
       "      <td>0.0</td>\n",
       "      <td>0</td>\n",
       "      <td>0.0</td>\n",
       "      <td>0.0</td>\n",
       "      <td>0</td>\n",
       "      <td>0.06</td>\n",
       "      <td>0.40</td>\n",
       "      <td>56.58</td>\n",
       "      <td>56.45</td>\n",
       "    </tr>\n",
       "    <tr>\n",
       "      <th>2822</th>\n",
       "      <td>2822</td>\n",
       "      <td>6</td>\n",
       "      <td>16</td>\n",
       "      <td>2</td>\n",
       "      <td>24</td>\n",
       "      <td>56.53</td>\n",
       "      <td>52.67</td>\n",
       "      <td>47.79</td>\n",
       "      <td>42.53</td>\n",
       "      <td>37.41</td>\n",
       "      <td>...</td>\n",
       "      <td>0.0</td>\n",
       "      <td>0.0</td>\n",
       "      <td>0</td>\n",
       "      <td>0.0</td>\n",
       "      <td>0.0</td>\n",
       "      <td>0</td>\n",
       "      <td>0.06</td>\n",
       "      <td>0.40</td>\n",
       "      <td>55.80</td>\n",
       "      <td>55.55</td>\n",
       "    </tr>\n",
       "    <tr>\n",
       "      <th>2823</th>\n",
       "      <td>2823</td>\n",
       "      <td>6</td>\n",
       "      <td>17</td>\n",
       "      <td>3</td>\n",
       "      <td>24</td>\n",
       "      <td>56.64</td>\n",
       "      <td>52.77</td>\n",
       "      <td>47.95</td>\n",
       "      <td>42.66</td>\n",
       "      <td>37.56</td>\n",
       "      <td>...</td>\n",
       "      <td>0.0</td>\n",
       "      <td>0.0</td>\n",
       "      <td>0</td>\n",
       "      <td>0.0</td>\n",
       "      <td>0.0</td>\n",
       "      <td>0</td>\n",
       "      <td>0.06</td>\n",
       "      <td>0.40</td>\n",
       "      <td>58.14</td>\n",
       "      <td>57.73</td>\n",
       "    </tr>\n",
       "  </tbody>\n",
       "</table>\n",
       "<p>2824 rows × 24 columns</p>\n",
       "</div>"
      ],
      "text/plain": [
       "      index  month  day  dayofweek  week  movingavg4weeks  movingavg16weeks  \\\n",
       "0         0      1    4          0     1            75.93             75.93   \n",
       "1         1      1    5          1     1            75.93             75.93   \n",
       "2         2      1    6          2     1            77.57             77.57   \n",
       "3         3      1    7          3     1            78.66             78.66   \n",
       "4         4      1    8          4     1            79.15             79.15   \n",
       "...     ...    ...  ...        ...   ...              ...               ...   \n",
       "2819   2819      6   11          4    23            56.15             52.43   \n",
       "2820   2820      6   14          0    24            56.27             52.51   \n",
       "2821   2821      6   15          1    24            56.40             52.58   \n",
       "2822   2822      6   16          2    24            56.53             52.67   \n",
       "2823   2823      6   17          3    24            56.64             52.77   \n",
       "\n",
       "      movingavg28weeks  movingavg40weeks  movingavg52weeks  ...  closeshock5  \\\n",
       "0                75.93             75.93             75.93  ...          0.0   \n",
       "1                75.93             75.93             75.93  ...          0.0   \n",
       "2                77.57             77.57             77.57  ...          0.0   \n",
       "3                78.66             78.66             78.66  ...          0.0   \n",
       "4                79.15             79.15             79.15  ...          0.0   \n",
       "...                ...               ...               ...  ...          ...   \n",
       "2819             47.28             42.11             36.92  ...          0.0   \n",
       "2820             47.46             42.25             37.09  ...          0.0   \n",
       "2821             47.62             42.39             37.25  ...          0.0   \n",
       "2822             47.79             42.53             37.41  ...          0.0   \n",
       "2823             47.95             42.66             37.56  ...          0.0   \n",
       "\n",
       "      closeshock10  priceshock  reversebooleanshock2  reversebooleanshock5  \\\n",
       "0              0.0           0                   0.0                   0.0   \n",
       "1              0.0           0                   0.0                   0.0   \n",
       "2              0.0           0                   0.0                   0.0   \n",
       "3              0.0           0                   0.0                   0.0   \n",
       "4              0.0           0                   0.0                   0.0   \n",
       "...            ...         ...                   ...                   ...   \n",
       "2819           0.0           0                   0.0                   0.0   \n",
       "2820           0.0           0                   0.0                   0.0   \n",
       "2821           0.0           0                   0.0                   0.0   \n",
       "2822           0.0           0                   0.0                   0.0   \n",
       "2823           0.0           0                   0.0                   0.0   \n",
       "\n",
       "      pricereverseshock2  polarity  subjectivity  price  Close  \n",
       "0                      0      0.05          0.47  75.89  75.93  \n",
       "1                      0      0.01          0.42  78.31  79.21  \n",
       "2                      0      0.05          0.43  80.55  80.84  \n",
       "3                      0      0.04          0.41  80.71  80.62  \n",
       "4                      0      0.03          0.38  80.28  79.94  \n",
       "...                  ...       ...           ...    ...    ...  \n",
       "2819                   0      0.06          0.40  56.62  56.65  \n",
       "2820                   0      0.06          0.40  56.80  56.65  \n",
       "2821                   0      0.06          0.40  56.58  56.45  \n",
       "2822                   0      0.06          0.40  55.80  55.55  \n",
       "2823                   0      0.06          0.40  58.14  57.73  \n",
       "\n",
       "[2824 rows x 24 columns]"
      ]
     },
     "execution_count": 96,
     "metadata": {},
     "output_type": "execute_result"
    }
   ],
   "source": [
    "dood"
   ]
  },
  {
   "cell_type": "code",
   "execution_count": 97,
   "metadata": {},
   "outputs": [],
   "source": [
    "X = dood.drop(['price','Close'], axis = 1)\n",
    "y = dood[['price','Close']]"
   ]
  },
  {
   "cell_type": "code",
   "execution_count": 98,
   "metadata": {},
   "outputs": [
    {
     "data": {
      "text/plain": [
       "((2824, 22), (2824, 2))"
      ]
     },
     "execution_count": 98,
     "metadata": {},
     "output_type": "execute_result"
    }
   ],
   "source": [
    "X.shape, y.shape"
   ]
  },
  {
   "cell_type": "code",
   "execution_count": 99,
   "metadata": {},
   "outputs": [],
   "source": [
    "import statsmodels.api as sm \n",
    "\n",
    "from sklearn.model_selection import ShuffleSplit\n",
    "from sklearn.metrics import mean_absolute_error\n",
    "from sklearn.metrics import mean_squared_error\n",
    "from sklearn.metrics import r2_score\n",
    "from sklearn.multioutput import RegressorChain\n",
    "from sklearn.ensemble import RandomForestRegressor"
   ]
  },
  {
   "cell_type": "code",
   "execution_count": 100,
   "metadata": {},
   "outputs": [],
   "source": [
    "split = ShuffleSplit(n_splits=10, test_size=0.2, random_state=42)\n",
    "for train_index, test_index in split.split(X, y):\n",
    "  X_train, X_test = X.iloc[train_index], X.iloc[test_index]\n",
    "  y_train, y_test = y.iloc[train_index], y.iloc[test_index]"
   ]
  },
  {
   "cell_type": "code",
   "execution_count": 101,
   "metadata": {},
   "outputs": [
    {
     "data": {
      "text/plain": [
       "((2259, 22), (2259, 2), (565, 22), (565, 2))"
      ]
     },
     "execution_count": 101,
     "metadata": {},
     "output_type": "execute_result"
    }
   ],
   "source": [
    " X_train.shape, y_train.shape, X_test.shape, y_test.shape"
   ]
  },
  {
   "cell_type": "code",
   "execution_count": 102,
   "metadata": {},
   "outputs": [],
   "source": [
    "rfg = RandomForestRegressor(random_state = 42, n_estimators = 500, criterion='mse', max_depth = 30, min_samples_leaf=2, min_samples_split=5, n_jobs=1)"
   ]
  },
  {
   "cell_type": "code",
   "execution_count": 103,
   "metadata": {},
   "outputs": [
    {
     "data": {
      "text/plain": [
       "RegressorChain(base_estimator=RandomForestRegressor(max_depth=30,\n",
       "                                                    min_samples_leaf=2,\n",
       "                                                    min_samples_split=5,\n",
       "                                                    n_estimators=500, n_jobs=1,\n",
       "                                                    random_state=42))"
      ]
     },
     "execution_count": 103,
     "metadata": {},
     "output_type": "execute_result"
    }
   ],
   "source": [
    "chainedmodel = RegressorChain(rfg)\n",
    "chainedmodel.fit(X_train, y_train)"
   ]
  },
  {
   "cell_type": "code",
   "execution_count": 104,
   "metadata": {},
   "outputs": [
    {
     "name": "stdout",
     "output_type": "stream",
     "text": [
      "[[39.75564691 40.01755197]\n",
      " [77.86257977 77.96848254]\n",
      " [40.12461464 40.06516384]\n",
      " ...\n",
      " [60.63194472 60.7366264 ]\n",
      " [82.99250926 82.75275793]\n",
      " [72.361001   72.26026002]]\n"
     ]
    }
   ],
   "source": [
    "pred = chainedmodel.predict(X_test)\n",
    "print(pred)\n",
    "roundpred = []\n",
    "for x in range(len(pred)):\n",
    "  roundpred.append([round(pred[x][0], 2),round(pred[x][1], 2) ])"
   ]
  },
  {
   "cell_type": "code",
   "execution_count": 105,
   "metadata": {},
   "outputs": [
    {
     "data": {
      "text/plain": [
       "0.9901420676357938"
      ]
     },
     "execution_count": 105,
     "metadata": {},
     "output_type": "execute_result"
    }
   ],
   "source": [
    "r2_score(y_test, roundpred) "
   ]
  },
  {
   "cell_type": "code",
   "execution_count": 106,
   "metadata": {},
   "outputs": [
    {
     "name": "stdout",
     "output_type": "stream",
     "text": [
      "MAE\n",
      "1.2786725663716814\n",
      "MSE\n",
      "3.110602654867257\n",
      "RMSE\n",
      "1.7636900676896883\n"
     ]
    }
   ],
   "source": [
    "print('MAE')\n",
    "print(mean_absolute_error(y_test, roundpred), end='\\n')\n",
    "#MSE\n",
    "print('MSE')\n",
    "print(mean_squared_error(y_test, roundpred), end='\\n')\n",
    "#RMSE\n",
    "print('RMSE')\n",
    "print(np.sqrt(mean_squared_error(y_test, roundpred)))"
   ]
  },
  {
   "cell_type": "code",
   "execution_count": 107,
   "metadata": {},
   "outputs": [],
   "source": [
    "datatopredict = dood.iloc[2823:,:]"
   ]
  },
  {
   "cell_type": "code",
   "execution_count": 108,
   "metadata": {},
   "outputs": [
    {
     "data": {
      "text/html": [
       "<div>\n",
       "<style scoped>\n",
       "    .dataframe tbody tr th:only-of-type {\n",
       "        vertical-align: middle;\n",
       "    }\n",
       "\n",
       "    .dataframe tbody tr th {\n",
       "        vertical-align: top;\n",
       "    }\n",
       "\n",
       "    .dataframe thead th {\n",
       "        text-align: right;\n",
       "    }\n",
       "</style>\n",
       "<table border=\"1\" class=\"dataframe\">\n",
       "  <thead>\n",
       "    <tr style=\"text-align: right;\">\n",
       "      <th></th>\n",
       "      <th>index</th>\n",
       "      <th>month</th>\n",
       "      <th>day</th>\n",
       "      <th>dayofweek</th>\n",
       "      <th>week</th>\n",
       "      <th>movingavg4weeks</th>\n",
       "      <th>movingavg16weeks</th>\n",
       "      <th>movingavg28weeks</th>\n",
       "      <th>movingavg40weeks</th>\n",
       "      <th>movingavg52weeks</th>\n",
       "      <th>...</th>\n",
       "      <th>closeshock5</th>\n",
       "      <th>closeshock10</th>\n",
       "      <th>priceshock</th>\n",
       "      <th>reversebooleanshock2</th>\n",
       "      <th>reversebooleanshock5</th>\n",
       "      <th>pricereverseshock2</th>\n",
       "      <th>polarity</th>\n",
       "      <th>subjectivity</th>\n",
       "      <th>price</th>\n",
       "      <th>Close</th>\n",
       "    </tr>\n",
       "  </thead>\n",
       "  <tbody>\n",
       "    <tr>\n",
       "      <th>2823</th>\n",
       "      <td>2823</td>\n",
       "      <td>6</td>\n",
       "      <td>17</td>\n",
       "      <td>3</td>\n",
       "      <td>24</td>\n",
       "      <td>56.64</td>\n",
       "      <td>52.77</td>\n",
       "      <td>47.95</td>\n",
       "      <td>42.66</td>\n",
       "      <td>37.56</td>\n",
       "      <td>...</td>\n",
       "      <td>0.0</td>\n",
       "      <td>0.0</td>\n",
       "      <td>0</td>\n",
       "      <td>0.0</td>\n",
       "      <td>0.0</td>\n",
       "      <td>0</td>\n",
       "      <td>0.06</td>\n",
       "      <td>0.4</td>\n",
       "      <td>58.14</td>\n",
       "      <td>57.73</td>\n",
       "    </tr>\n",
       "  </tbody>\n",
       "</table>\n",
       "<p>1 rows × 24 columns</p>\n",
       "</div>"
      ],
      "text/plain": [
       "      index  month  day  dayofweek  week  movingavg4weeks  movingavg16weeks  \\\n",
       "2823   2823      6   17          3    24            56.64             52.77   \n",
       "\n",
       "      movingavg28weeks  movingavg40weeks  movingavg52weeks  ...  closeshock5  \\\n",
       "2823             47.95             42.66             37.56  ...          0.0   \n",
       "\n",
       "      closeshock10  priceshock  reversebooleanshock2  reversebooleanshock5  \\\n",
       "2823           0.0           0                   0.0                   0.0   \n",
       "\n",
       "      pricereverseshock2  polarity  subjectivity  price  Close  \n",
       "2823                   0      0.06           0.4  58.14  57.73  \n",
       "\n",
       "[1 rows x 24 columns]"
      ]
     },
     "execution_count": 108,
     "metadata": {},
     "output_type": "execute_result"
    }
   ],
   "source": [
    "datatopredict"
   ]
  },
  {
   "cell_type": "code",
   "execution_count": 109,
   "metadata": {},
   "outputs": [],
   "source": [
    "mydata = datatopredict.drop(['price','Close'], axis = 1)"
   ]
  },
  {
   "cell_type": "code",
   "execution_count": 110,
   "metadata": {},
   "outputs": [],
   "source": [
    "final = chainedmodel.predict(mydata)"
   ]
  },
  {
   "cell_type": "code",
   "execution_count": 111,
   "metadata": {},
   "outputs": [
    {
     "data": {
      "text/plain": [
       "array([[57.26310608, 57.06314814]])"
      ]
     },
     "execution_count": 111,
     "metadata": {},
     "output_type": "execute_result"
    }
   ],
   "source": [
    "final"
   ]
  },
  {
   "cell_type": "code",
   "execution_count": 113,
   "metadata": {},
   "outputs": [
    {
     "data": {
      "text/plain": [
       "[57.26, 57.06]"
      ]
     },
     "execution_count": 113,
     "metadata": {},
     "output_type": "execute_result"
    }
   ],
   "source": [
    "[(round(final[0][0], 2)),(round(final[0][1], 2))]"
   ]
  },
  {
   "cell_type": "code",
   "execution_count": 114,
   "metadata": {},
   "outputs": [],
   "source": [
    "start = datetime.datetime(2021, 6,17 )\n",
    "end = datetime.datetime(2021, 6, 17)"
   ]
  },
  {
   "cell_type": "code",
   "execution_count": 115,
   "metadata": {},
   "outputs": [],
   "source": [
    "dfc = web.DataReader(\"IDFC.NS\", 'yahoo', start, end)"
   ]
  },
  {
   "cell_type": "code",
   "execution_count": 116,
   "metadata": {},
   "outputs": [],
   "source": [
    "dfc.reset_index(inplace=True)"
   ]
  },
  {
   "cell_type": "code",
   "execution_count": 117,
   "metadata": {},
   "outputs": [],
   "source": [
    "dfc.rename(columns={'Date': 'date'}, inplace = True)"
   ]
  },
  {
   "cell_type": "code",
   "execution_count": 118,
   "metadata": {},
   "outputs": [],
   "source": [
    "dfc['date'] = pd.to_datetime(dfc['date'], format = '%Y%m%d')"
   ]
  },
  {
   "cell_type": "code",
   "execution_count": 119,
   "metadata": {},
   "outputs": [],
   "source": [
    "unseenbsedata_price = round((dfc['High'] + dfc['Low'] + dfc['Close'])/ 3, 2)"
   ]
  },
  {
   "cell_type": "code",
   "execution_count": 120,
   "metadata": {},
   "outputs": [
    {
     "data": {
      "text/plain": [
       "[55.15, 54.75]"
      ]
     },
     "execution_count": 120,
     "metadata": {},
     "output_type": "execute_result"
    }
   ],
   "source": [
    "[unseenbsedata_price[0] , round(dfc['Close'],2)[0]]"
   ]
  },
  {
   "cell_type": "code",
   "execution_count": null,
   "metadata": {},
   "outputs": [],
   "source": []
  },
  {
   "cell_type": "code",
   "execution_count": null,
   "metadata": {},
   "outputs": [],
   "source": []
  }
 ],
 "metadata": {
  "kernelspec": {
   "display_name": "Python 3",
   "language": "python",
   "name": "python3"
  },
  "language_info": {
   "codemirror_mode": {
    "name": "ipython",
    "version": 3
   },
   "file_extension": ".py",
   "mimetype": "text/x-python",
   "name": "python",
   "nbconvert_exporter": "python",
   "pygments_lexer": "ipython3",
   "version": "3.9.5"
  }
 },
 "nbformat": 4,
 "nbformat_minor": 2
}
